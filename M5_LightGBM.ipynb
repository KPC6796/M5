{
  "nbformat": 4,
  "nbformat_minor": 0,
  "metadata": {
    "colab": {
      "name": "M5_LightGBM.ipynb",
      "provenance": [],
      "collapsed_sections": [],
      "authorship_tag": "ABX9TyN7ODF8YwNgWkRuhA1426pC",
      "include_colab_link": true
    },
    "kernelspec": {
      "name": "python3",
      "display_name": "Python 3"
    }
  },
  "cells": [
    {
      "cell_type": "markdown",
      "metadata": {
        "id": "view-in-github",
        "colab_type": "text"
      },
      "source": [
        "<a href=\"https://colab.research.google.com/github/KPC6796/M5/blob/master/M5_LightGBM.ipynb\" target=\"_parent\"><img src=\"https://colab.research.google.com/assets/colab-badge.svg\" alt=\"Open In Colab\"/></a>"
      ]
    },
    {
      "cell_type": "code",
      "metadata": {
        "id": "MSMgZmAAVau4",
        "colab_type": "code",
        "colab": {
          "base_uri": "https://localhost:8080/",
          "height": 1000
        },
        "outputId": "d671aa18-8267-490e-ccf7-6aa43eff9cde"
      },
      "source": [
        "# After running\n",
        "! git clone --recursive https://github.com/Microsoft/LightGBM\n",
        "\n",
        "#You can run this oneliner which will build and compile LightGBM with GPU enabled in colab:\n",
        "! cd LightGBM && rm -rf build && mkdir build && cd build && cmake -DUSE_GPU=1 ../../LightGBM && make -j4 && cd ../python-package && python3 setup.py install --precompile --gpu; "
      ],
      "execution_count": 1,
      "outputs": [
        {
          "output_type": "stream",
          "text": [
            "Cloning into 'LightGBM'...\n",
            "remote: Enumerating objects: 18286, done.\u001b[K\n",
            "remote: Total 18286 (delta 0), reused 0 (delta 0), pack-reused 18286\u001b[K\n",
            "Receiving objects: 100% (18286/18286), 12.28 MiB | 7.94 MiB/s, done.\n",
            "Resolving deltas: 100% (13362/13362), done.\n",
            "Submodule 'include/boost/compute' (https://github.com/boostorg/compute) registered for path 'compute'\n",
            "Cloning into '/content/LightGBM/compute'...\n",
            "remote: Enumerating objects: 21728, done.        \n",
            "remote: Total 21728 (delta 0), reused 0 (delta 0), pack-reused 21728        \n",
            "Receiving objects: 100% (21728/21728), 8.51 MiB | 6.15 MiB/s, done.\n",
            "Resolving deltas: 100% (17565/17565), done.\n",
            "Submodule path 'compute': checked out '36c89134d4013b2e5e45bc55656a18bd6141995a'\n",
            "-- The C compiler identification is GNU 7.5.0\n",
            "-- The CXX compiler identification is GNU 7.5.0\n",
            "-- Check for working C compiler: /usr/bin/cc\n",
            "-- Check for working C compiler: /usr/bin/cc -- works\n",
            "-- Detecting C compiler ABI info\n",
            "-- Detecting C compiler ABI info - done\n",
            "-- Detecting C compile features\n",
            "-- Detecting C compile features - done\n",
            "-- Check for working CXX compiler: /usr/bin/c++\n",
            "-- Check for working CXX compiler: /usr/bin/c++ -- works\n",
            "-- Detecting CXX compiler ABI info\n",
            "-- Detecting CXX compiler ABI info - done\n",
            "-- Detecting CXX compile features\n",
            "-- Detecting CXX compile features - done\n",
            "-- Found OpenMP_C: -fopenmp (found version \"4.5\") \n",
            "-- Found OpenMP_CXX: -fopenmp (found version \"4.5\") \n",
            "-- Found OpenMP: TRUE (found version \"4.5\")  \n",
            "-- Looking for CL_VERSION_2_2\n",
            "-- Looking for CL_VERSION_2_2 - found\n",
            "-- Found OpenCL: /usr/lib/x86_64-linux-gnu/libOpenCL.so (found version \"2.2\") \n",
            "-- OpenCL include directory: /usr/include\n",
            "-- Boost version: 1.65.1\n",
            "-- Found the following Boost libraries:\n",
            "--   filesystem\n",
            "--   system\n",
            "-- Performing Test MM_PREFETCH\n",
            "-- Performing Test MM_PREFETCH - Success\n",
            "-- Using _mm_prefetch\n",
            "-- Performing Test MM_MALLOC\n",
            "-- Performing Test MM_MALLOC - Success\n",
            "-- Using _mm_malloc\n",
            "-- Configuring done\n",
            "-- Generating done\n",
            "-- Build files have been written to: /content/LightGBM/build\n",
            "\u001b[35m\u001b[1mScanning dependencies of target lightgbm\u001b[0m\n",
            "\u001b[35m\u001b[1mScanning dependencies of target _lightgbm\u001b[0m\n",
            "[  3%] \u001b[32mBuilding CXX object CMakeFiles/_lightgbm.dir/src/application/application.cpp.o\u001b[0m\n",
            "[  3%] \u001b[32mBuilding CXX object CMakeFiles/_lightgbm.dir/src/boosting/gbdt.cpp.o\u001b[0m\n",
            "[  4%] \u001b[32mBuilding CXX object CMakeFiles/_lightgbm.dir/src/boosting/boosting.cpp.o\u001b[0m\n",
            "[  6%] \u001b[32mBuilding CXX object CMakeFiles/lightgbm.dir/src/main.cpp.o\u001b[0m\n",
            "[  8%] \u001b[32mBuilding CXX object CMakeFiles/lightgbm.dir/src/application/application.cpp.o\u001b[0m\n",
            "[  9%] \u001b[32mBuilding CXX object CMakeFiles/_lightgbm.dir/src/boosting/gbdt_model_text.cpp.o\u001b[0m\n",
            "[ 11%] \u001b[32mBuilding CXX object CMakeFiles/_lightgbm.dir/src/boosting/gbdt_prediction.cpp.o\u001b[0m\n",
            "[ 12%] \u001b[32mBuilding CXX object CMakeFiles/lightgbm.dir/src/boosting/boosting.cpp.o\u001b[0m\n",
            "[ 14%] \u001b[32mBuilding CXX object CMakeFiles/lightgbm.dir/src/boosting/gbdt.cpp.o\u001b[0m\n",
            "[ 16%] \u001b[32mBuilding CXX object CMakeFiles/lightgbm.dir/src/boosting/gbdt_model_text.cpp.o\u001b[0m\n",
            "[ 17%] \u001b[32mBuilding CXX object CMakeFiles/_lightgbm.dir/src/boosting/prediction_early_stop.cpp.o\u001b[0m\n",
            "[ 19%] \u001b[32mBuilding CXX object CMakeFiles/_lightgbm.dir/src/io/bin.cpp.o\u001b[0m\n",
            "[ 20%] \u001b[32mBuilding CXX object CMakeFiles/lightgbm.dir/src/boosting/gbdt_prediction.cpp.o\u001b[0m\n",
            "[ 22%] \u001b[32mBuilding CXX object CMakeFiles/lightgbm.dir/src/boosting/prediction_early_stop.cpp.o\u001b[0m\n",
            "[ 24%] \u001b[32mBuilding CXX object CMakeFiles/lightgbm.dir/src/io/bin.cpp.o\u001b[0m\n",
            "[ 25%] \u001b[32mBuilding CXX object CMakeFiles/lightgbm.dir/src/io/config.cpp.o\u001b[0m\n",
            "[ 27%] \u001b[32mBuilding CXX object CMakeFiles/lightgbm.dir/src/io/config_auto.cpp.o\u001b[0m\n",
            "[ 29%] \u001b[32mBuilding CXX object CMakeFiles/lightgbm.dir/src/io/dataset.cpp.o\u001b[0m\n",
            "[ 30%] \u001b[32mBuilding CXX object CMakeFiles/lightgbm.dir/src/io/dataset_loader.cpp.o\u001b[0m\n",
            "[ 32%] \u001b[32mBuilding CXX object CMakeFiles/lightgbm.dir/src/io/file_io.cpp.o\u001b[0m\n",
            "[ 33%] \u001b[32mBuilding CXX object CMakeFiles/lightgbm.dir/src/io/json11.cpp.o\u001b[0m\n",
            "[ 35%] \u001b[32mBuilding CXX object CMakeFiles/lightgbm.dir/src/io/metadata.cpp.o\u001b[0m\n",
            "[ 37%] \u001b[32mBuilding CXX object CMakeFiles/lightgbm.dir/src/io/parser.cpp.o\u001b[0m\n",
            "[ 38%] \u001b[32mBuilding CXX object CMakeFiles/_lightgbm.dir/src/io/config.cpp.o\u001b[0m\n",
            "[ 40%] \u001b[32mBuilding CXX object CMakeFiles/lightgbm.dir/src/io/tree.cpp.o\u001b[0m\n",
            "[ 41%] \u001b[32mBuilding CXX object CMakeFiles/lightgbm.dir/src/metric/dcg_calculator.cpp.o\u001b[0m\n",
            "[ 43%] \u001b[32mBuilding CXX object CMakeFiles/lightgbm.dir/src/metric/metric.cpp.o\u001b[0m\n",
            "[ 45%] \u001b[32mBuilding CXX object CMakeFiles/_lightgbm.dir/src/io/config_auto.cpp.o\u001b[0m\n",
            "[ 46%] \u001b[32mBuilding CXX object CMakeFiles/lightgbm.dir/src/network/linker_topo.cpp.o\u001b[0m\n",
            "[ 48%] \u001b[32mBuilding CXX object CMakeFiles/lightgbm.dir/src/network/linkers_mpi.cpp.o\u001b[0m\n",
            "[ 50%] \u001b[32mBuilding CXX object CMakeFiles/lightgbm.dir/src/network/linkers_socket.cpp.o\u001b[0m\n",
            "[ 51%] \u001b[32mBuilding CXX object CMakeFiles/lightgbm.dir/src/network/network.cpp.o\u001b[0m\n",
            "[ 53%] \u001b[32mBuilding CXX object CMakeFiles/_lightgbm.dir/src/io/dataset.cpp.o\u001b[0m\n",
            "[ 54%] \u001b[32mBuilding CXX object CMakeFiles/lightgbm.dir/src/objective/objective_function.cpp.o\u001b[0m\n",
            "[ 56%] \u001b[32mBuilding CXX object CMakeFiles/lightgbm.dir/src/treelearner/data_parallel_tree_learner.cpp.o\u001b[0m\n",
            "[ 58%] \u001b[32mBuilding CXX object CMakeFiles/lightgbm.dir/src/treelearner/feature_parallel_tree_learner.cpp.o\u001b[0m\n",
            "[ 59%] \u001b[32mBuilding CXX object CMakeFiles/_lightgbm.dir/src/io/dataset_loader.cpp.o\u001b[0m\n",
            "[ 61%] \u001b[32mBuilding CXX object CMakeFiles/lightgbm.dir/src/treelearner/gpu_tree_learner.cpp.o\u001b[0m\n",
            "[ 62%] \u001b[32mBuilding CXX object CMakeFiles/lightgbm.dir/src/treelearner/serial_tree_learner.cpp.o\u001b[0m\n",
            "[ 64%] \u001b[32mBuilding CXX object CMakeFiles/lightgbm.dir/src/treelearner/tree_learner.cpp.o\u001b[0m\n",
            "[ 66%] \u001b[32mBuilding CXX object CMakeFiles/_lightgbm.dir/src/io/file_io.cpp.o\u001b[0m\n",
            "[ 67%] \u001b[32mBuilding CXX object CMakeFiles/_lightgbm.dir/src/io/json11.cpp.o\u001b[0m\n",
            "[ 69%] \u001b[32mBuilding CXX object CMakeFiles/_lightgbm.dir/src/io/metadata.cpp.o\u001b[0m\n",
            "[ 70%] \u001b[32mBuilding CXX object CMakeFiles/lightgbm.dir/src/treelearner/voting_parallel_tree_learner.cpp.o\u001b[0m\n",
            "[ 72%] \u001b[32mBuilding CXX object CMakeFiles/_lightgbm.dir/src/io/parser.cpp.o\u001b[0m\n",
            "[ 74%] \u001b[32mBuilding CXX object CMakeFiles/_lightgbm.dir/src/io/tree.cpp.o\u001b[0m\n",
            "[ 75%] \u001b[32mBuilding CXX object CMakeFiles/_lightgbm.dir/src/metric/dcg_calculator.cpp.o\u001b[0m\n",
            "[ 77%] \u001b[32mBuilding CXX object CMakeFiles/_lightgbm.dir/src/metric/metric.cpp.o\u001b[0m\n",
            "[ 79%] \u001b[32mBuilding CXX object CMakeFiles/_lightgbm.dir/src/network/linker_topo.cpp.o\u001b[0m\n",
            "[ 80%] \u001b[32mBuilding CXX object CMakeFiles/_lightgbm.dir/src/network/linkers_mpi.cpp.o\u001b[0m\n",
            "[ 82%] \u001b[32mBuilding CXX object CMakeFiles/_lightgbm.dir/src/network/linkers_socket.cpp.o\u001b[0m\n",
            "[ 83%] \u001b[32mBuilding CXX object CMakeFiles/_lightgbm.dir/src/network/network.cpp.o\u001b[0m\n",
            "[ 85%] \u001b[32mBuilding CXX object CMakeFiles/_lightgbm.dir/src/objective/objective_function.cpp.o\u001b[0m\n",
            "[ 87%] \u001b[32mBuilding CXX object CMakeFiles/_lightgbm.dir/src/treelearner/data_parallel_tree_learner.cpp.o\u001b[0m\n",
            "[ 88%] \u001b[32mBuilding CXX object CMakeFiles/_lightgbm.dir/src/treelearner/feature_parallel_tree_learner.cpp.o\u001b[0m\n",
            "[ 90%] \u001b[32mBuilding CXX object CMakeFiles/_lightgbm.dir/src/treelearner/gpu_tree_learner.cpp.o\u001b[0m\n",
            "[ 91%] \u001b[32mBuilding CXX object CMakeFiles/_lightgbm.dir/src/treelearner/serial_tree_learner.cpp.o\u001b[0m\n",
            "[ 93%] \u001b[32mBuilding CXX object CMakeFiles/_lightgbm.dir/src/treelearner/tree_learner.cpp.o\u001b[0m\n",
            "[ 95%] \u001b[32m\u001b[1mLinking CXX executable ../lightgbm\u001b[0m\n",
            "[ 95%] Built target lightgbm\n",
            "[ 96%] \u001b[32mBuilding CXX object CMakeFiles/_lightgbm.dir/src/treelearner/voting_parallel_tree_learner.cpp.o\u001b[0m\n",
            "[ 98%] \u001b[32mBuilding CXX object CMakeFiles/_lightgbm.dir/src/c_api.cpp.o\u001b[0m\n",
            "[100%] \u001b[32m\u001b[1mLinking CXX shared library ../lib_lightgbm.so\u001b[0m\n",
            "[100%] Built target _lightgbm\n",
            "running install\n",
            "running build\n",
            "running build_py\n",
            "INFO:root:Generating grammar tables from /usr/lib/python3.6/lib2to3/Grammar.txt\n",
            "INFO:root:Generating grammar tables from /usr/lib/python3.6/lib2to3/PatternGrammar.txt\n",
            "creating build\n",
            "creating build/lib\n",
            "creating build/lib/lightgbm\n",
            "copying lightgbm/sklearn.py -> build/lib/lightgbm\n",
            "copying lightgbm/callback.py -> build/lib/lightgbm\n",
            "copying lightgbm/__init__.py -> build/lib/lightgbm\n",
            "copying lightgbm/libpath.py -> build/lib/lightgbm\n",
            "copying lightgbm/basic.py -> build/lib/lightgbm\n",
            "copying lightgbm/engine.py -> build/lib/lightgbm\n",
            "copying lightgbm/compat.py -> build/lib/lightgbm\n",
            "copying lightgbm/plotting.py -> build/lib/lightgbm\n",
            "running egg_info\n",
            "creating lightgbm.egg-info\n",
            "writing lightgbm.egg-info/PKG-INFO\n",
            "writing dependency_links to lightgbm.egg-info/dependency_links.txt\n",
            "writing requirements to lightgbm.egg-info/requires.txt\n",
            "writing top-level names to lightgbm.egg-info/top_level.txt\n",
            "writing manifest file 'lightgbm.egg-info/SOURCES.txt'\n",
            "reading manifest template 'MANIFEST.in'\n",
            "no previously-included directories found matching 'build'\n",
            "warning: no files found matching 'LICENSE'\n",
            "warning: no files found matching '*.txt'\n",
            "warning: no files found matching '*.so' under directory 'lightgbm'\n",
            "warning: no files found matching '*.txt' under directory 'compile'\n",
            "warning: no files found matching '*.so' under directory 'compile'\n",
            "warning: no files found matching '*.dll' under directory 'compile/Release'\n",
            "warning: no files found matching '*' under directory 'compile/compute'\n",
            "warning: no files found matching '*' under directory 'compile/include'\n",
            "warning: no files found matching '*' under directory 'compile/src'\n",
            "warning: no files found matching 'LightGBM.sln' under directory 'compile/windows'\n",
            "warning: no files found matching 'LightGBM.vcxproj' under directory 'compile/windows'\n",
            "warning: no files found matching '*.dll' under directory 'compile/windows/x64/DLL'\n",
            "warning: no previously-included files matching '*.py[co]' found anywhere in distribution\n",
            "writing manifest file 'lightgbm.egg-info/SOURCES.txt'\n",
            "copying lightgbm/VERSION.txt -> build/lib/lightgbm\n",
            "running install_lib\n",
            "copying build/lib/lightgbm/sklearn.py -> /usr/local/lib/python3.6/dist-packages/lightgbm\n",
            "copying build/lib/lightgbm/callback.py -> /usr/local/lib/python3.6/dist-packages/lightgbm\n",
            "copying build/lib/lightgbm/__init__.py -> /usr/local/lib/python3.6/dist-packages/lightgbm\n",
            "copying build/lib/lightgbm/libpath.py -> /usr/local/lib/python3.6/dist-packages/lightgbm\n",
            "copying build/lib/lightgbm/basic.py -> /usr/local/lib/python3.6/dist-packages/lightgbm\n",
            "copying build/lib/lightgbm/engine.py -> /usr/local/lib/python3.6/dist-packages/lightgbm\n",
            "copying build/lib/lightgbm/compat.py -> /usr/local/lib/python3.6/dist-packages/lightgbm\n",
            "copying build/lib/lightgbm/VERSION.txt -> /usr/local/lib/python3.6/dist-packages/lightgbm\n",
            "copying build/lib/lightgbm/plotting.py -> /usr/local/lib/python3.6/dist-packages/lightgbm\n",
            "INFO:LightGBM:Installing lib_lightgbm from: ['../lib_lightgbm.so']\n",
            "copying ../lib_lightgbm.so -> /usr/local/lib/python3.6/dist-packages/lightgbm\n",
            "byte-compiling /usr/local/lib/python3.6/dist-packages/lightgbm/sklearn.py to sklearn.cpython-36.pyc\n",
            "byte-compiling /usr/local/lib/python3.6/dist-packages/lightgbm/callback.py to callback.cpython-36.pyc\n",
            "byte-compiling /usr/local/lib/python3.6/dist-packages/lightgbm/__init__.py to __init__.cpython-36.pyc\n",
            "byte-compiling /usr/local/lib/python3.6/dist-packages/lightgbm/libpath.py to libpath.cpython-36.pyc\n",
            "byte-compiling /usr/local/lib/python3.6/dist-packages/lightgbm/basic.py to basic.cpython-36.pyc\n",
            "byte-compiling /usr/local/lib/python3.6/dist-packages/lightgbm/engine.py to engine.cpython-36.pyc\n",
            "byte-compiling /usr/local/lib/python3.6/dist-packages/lightgbm/compat.py to compat.cpython-36.pyc\n",
            "byte-compiling /usr/local/lib/python3.6/dist-packages/lightgbm/plotting.py to plotting.cpython-36.pyc\n",
            "running install_egg_info\n",
            "Copying lightgbm.egg-info to /usr/local/lib/python3.6/dist-packages/lightgbm-2.3.2-py3.6.egg-info\n",
            "running install_scripts\n"
          ],
          "name": "stdout"
        }
      ]
    },
    {
      "cell_type": "code",
      "metadata": {
        "id": "X4G0UntfVdzf",
        "colab_type": "code",
        "colab": {}
      },
      "source": [
        "URL_calendar = \"https://slavadatasets.s3.us-east-2.amazonaws.com/calendar.csv\"\n",
        "URL_sales_train ='https://slavadatasets.s3.us-east-2.amazonaws.com/sales_train_validation.csv'\n",
        "URL_prices = 'https://slavadatasets.s3.us-east-2.amazonaws.com/sell_prices.csv'"
      ],
      "execution_count": 2,
      "outputs": []
    },
    {
      "cell_type": "code",
      "metadata": {
        "id": "SvCOdAhCWvPg",
        "colab_type": "code",
        "colab": {}
      },
      "source": [
        "from  datetime import datetime, timedelta\n",
        "import numpy as np, pandas as pd\n",
        "import gc\n",
        "import io\n",
        "import dask.dataframe as dd\n",
        "import lightgbm as lgb"
      ],
      "execution_count": 3,
      "outputs": []
    },
    {
      "cell_type": "code",
      "metadata": {
        "id": "5SRFZ11bWzf4",
        "colab_type": "code",
        "colab": {}
      },
      "source": [
        "CAL_DTYPES={\"event_name_1\": \"category\", \"event_name_2\": \"category\", \"event_type_1\": \"category\", \n",
        "         \"event_type_2\": \"category\", \"weekday\": \"category\", 'wm_yr_wk': 'int16', \"wday\": \"int16\",\n",
        "        \"month\": \"int16\", \"year\": \"int16\", \"snap_CA\": \"float32\", 'snap_TX': 'float32', 'snap_WI': 'float32' }\n",
        "PRICE_DTYPES = {\"store_id\": \"category\", \"item_id\": \"category\", \"wm_yr_wk\": \"int16\",\"sell_price\":\"float32\" }"
      ],
      "execution_count": 4,
      "outputs": []
    },
    {
      "cell_type": "code",
      "metadata": {
        "id": "tTHnv58IW3cV",
        "colab_type": "code",
        "colab": {}
      },
      "source": [
        "pd.options.display.max_columns = 50"
      ],
      "execution_count": 5,
      "outputs": []
    },
    {
      "cell_type": "code",
      "metadata": {
        "id": "VhmhNg9DW7kj",
        "colab_type": "code",
        "colab": {}
      },
      "source": [
        "def create_dt(is_train = True, nrows = None, first_day = 1200):\n",
        "     \n",
        "    prices = dd.read_csv(URL_prices,dtype = PRICE_DTYPES).compute()\n",
        "    for col, col_dtype in PRICE_DTYPES.items():\n",
        "        if col_dtype == \"category\":\n",
        "            prices[col] = prices[col].cat.codes.astype(\"int16\")\n",
        "            prices[col] -= prices[col].min()\n",
        "        \n",
        "    cal = dd.read_csv(URL_calendar,dtype = CAL_DTYPES).compute()\n",
        "    cal[\"date\"] = pd.to_datetime(cal[\"date\"])\n",
        "    for col, col_dtype in CAL_DTYPES.items():\n",
        "        if col_dtype == \"category\":\n",
        "            cal[col] = cal[col].cat.codes.astype(\"int16\")\n",
        "            cal[col] -= cal[col].min()\n",
        "    \n",
        "    start_day = max(1 if is_train  else tr_last-max_lags, first_day)\n",
        "    numcols = [f\"d_{day}\" for day in range(start_day,tr_last+1)]\n",
        "    catcols = ['id', 'item_id', 'dept_id','store_id', 'cat_id', 'state_id']\n",
        "    dtype = {numcol:\"float32\" for numcol in numcols} \n",
        "    dtype.update({col: \"category\" for col in catcols if col != \"id\"})\n",
        "    dt = dd.read_csv(URL_sales_train, \n",
        "                     nrows = nrows, usecols = catcols + numcols, dtype = dtype).compute()\n",
        "    \n",
        "    for col in catcols:\n",
        "        if col != \"id\":\n",
        "            dt[col] = dt[col].cat.codes.astype(\"int16\")\n",
        "            dt[col] -= dt[col].min()\n",
        "    \n",
        "    if not is_train:\n",
        "        for day in range(tr_last+1, tr_last+ 28 +1):\n",
        "            dt[f\"d_{day}\"] = np.nan\n",
        "    \n",
        "    dt = pd.melt(dt,\n",
        "                  id_vars = catcols,\n",
        "                  value_vars = [col for col in dt.columns if col.startswith(\"d_\")],\n",
        "                  var_name = \"d\",\n",
        "                  value_name = \"sales\")\n",
        "    \n",
        "    dt = dt.merge(cal, on= \"d\", copy = False)\n",
        "    dt = dt.merge(prices, on = [\"store_id\", \"item_id\", \"wm_yr_wk\"], copy = False)\n",
        "    \n",
        "    return dt"
      ],
      "execution_count": 6,
      "outputs": []
    },
    {
      "cell_type": "code",
      "metadata": {
        "id": "ln97yRyhYwxz",
        "colab_type": "code",
        "colab": {
          "base_uri": "https://localhost:8080/",
          "height": 323
        },
        "outputId": "af998060-fbba-4872-c2c5-13d4b6f0fcfa"
      },
      "source": [
        "create_dt()"
      ],
      "execution_count": 17,
      "outputs": [
        {
          "output_type": "error",
          "ename": "ValueError",
          "evalue": "ignored",
          "traceback": [
            "\u001b[0;31m---------------------------------------------------------------------------\u001b[0m",
            "\u001b[0;31mValueError\u001b[0m                                Traceback (most recent call last)",
            "\u001b[0;32m<ipython-input-17-d6d48168c41d>\u001b[0m in \u001b[0;36m<module>\u001b[0;34m()\u001b[0m\n\u001b[0;32m----> 1\u001b[0;31m \u001b[0mcreate_dt\u001b[0m\u001b[0;34m(\u001b[0m\u001b[0;34m)\u001b[0m\u001b[0;34m\u001b[0m\u001b[0;34m\u001b[0m\u001b[0m\n\u001b[0m",
            "\u001b[0;32m<ipython-input-6-e5fa88a242e5>\u001b[0m in \u001b[0;36mcreate_dt\u001b[0;34m(is_train, nrows, first_day)\u001b[0m\n\u001b[1;32m      1\u001b[0m \u001b[0;32mdef\u001b[0m \u001b[0mcreate_dt\u001b[0m\u001b[0;34m(\u001b[0m\u001b[0mis_train\u001b[0m \u001b[0;34m=\u001b[0m \u001b[0;32mTrue\u001b[0m\u001b[0;34m,\u001b[0m \u001b[0mnrows\u001b[0m \u001b[0;34m=\u001b[0m \u001b[0;32mNone\u001b[0m\u001b[0;34m,\u001b[0m \u001b[0mfirst_day\u001b[0m \u001b[0;34m=\u001b[0m \u001b[0;36m1200\u001b[0m\u001b[0;34m)\u001b[0m\u001b[0;34m:\u001b[0m\u001b[0;34m\u001b[0m\u001b[0;34m\u001b[0m\u001b[0m\n\u001b[1;32m      2\u001b[0m \u001b[0;34m\u001b[0m\u001b[0m\n\u001b[0;32m----> 3\u001b[0;31m     \u001b[0mprices\u001b[0m \u001b[0;34m=\u001b[0m \u001b[0mdd\u001b[0m\u001b[0;34m.\u001b[0m\u001b[0mread_csv\u001b[0m\u001b[0;34m(\u001b[0m\u001b[0mURL_prices\u001b[0m\u001b[0;34m,\u001b[0m\u001b[0mdtype\u001b[0m \u001b[0;34m=\u001b[0m \u001b[0mPRICE_DTYPES\u001b[0m\u001b[0;34m)\u001b[0m\u001b[0;34m.\u001b[0m\u001b[0mcompute\u001b[0m\u001b[0;34m(\u001b[0m\u001b[0;34m)\u001b[0m\u001b[0;34m\u001b[0m\u001b[0;34m\u001b[0m\u001b[0m\n\u001b[0m\u001b[1;32m      4\u001b[0m     \u001b[0;32mfor\u001b[0m \u001b[0mcol\u001b[0m\u001b[0;34m,\u001b[0m \u001b[0mcol_dtype\u001b[0m \u001b[0;32min\u001b[0m \u001b[0mPRICE_DTYPES\u001b[0m\u001b[0;34m.\u001b[0m\u001b[0mitems\u001b[0m\u001b[0;34m(\u001b[0m\u001b[0;34m)\u001b[0m\u001b[0;34m:\u001b[0m\u001b[0;34m\u001b[0m\u001b[0;34m\u001b[0m\u001b[0m\n\u001b[1;32m      5\u001b[0m         \u001b[0;32mif\u001b[0m \u001b[0mcol_dtype\u001b[0m \u001b[0;34m==\u001b[0m \u001b[0;34m\"category\"\u001b[0m\u001b[0;34m:\u001b[0m\u001b[0;34m\u001b[0m\u001b[0;34m\u001b[0m\u001b[0m\n",
            "\u001b[0;32m/usr/local/lib/python3.6/dist-packages/dask/dataframe/io/csv.py\u001b[0m in \u001b[0;36mread\u001b[0;34m(urlpath, blocksize, collection, lineterminator, compression, sample, enforce, assume_missing, storage_options, include_path_column, **kwargs)\u001b[0m\n\u001b[1;32m    576\u001b[0m             \u001b[0mstorage_options\u001b[0m\u001b[0;34m=\u001b[0m\u001b[0mstorage_options\u001b[0m\u001b[0;34m,\u001b[0m\u001b[0;34m\u001b[0m\u001b[0;34m\u001b[0m\u001b[0m\n\u001b[1;32m    577\u001b[0m             \u001b[0minclude_path_column\u001b[0m\u001b[0;34m=\u001b[0m\u001b[0minclude_path_column\u001b[0m\u001b[0;34m,\u001b[0m\u001b[0;34m\u001b[0m\u001b[0;34m\u001b[0m\u001b[0m\n\u001b[0;32m--> 578\u001b[0;31m             \u001b[0;34m**\u001b[0m\u001b[0mkwargs\u001b[0m\u001b[0;34m\u001b[0m\u001b[0;34m\u001b[0m\u001b[0m\n\u001b[0m\u001b[1;32m    579\u001b[0m         )\n\u001b[1;32m    580\u001b[0m \u001b[0;34m\u001b[0m\u001b[0m\n",
            "\u001b[0;32m/usr/local/lib/python3.6/dist-packages/dask/dataframe/io/csv.py\u001b[0m in \u001b[0;36mread_pandas\u001b[0;34m(reader, urlpath, blocksize, collection, lineterminator, compression, sample, enforce, assume_missing, storage_options, include_path_column, **kwargs)\u001b[0m\n\u001b[1;32m    403\u001b[0m         \u001b[0mcompression\u001b[0m\u001b[0;34m=\u001b[0m\u001b[0mcompression\u001b[0m\u001b[0;34m,\u001b[0m\u001b[0;34m\u001b[0m\u001b[0;34m\u001b[0m\u001b[0m\n\u001b[1;32m    404\u001b[0m         \u001b[0minclude_path\u001b[0m\u001b[0;34m=\u001b[0m\u001b[0minclude_path_column\u001b[0m\u001b[0;34m,\u001b[0m\u001b[0;34m\u001b[0m\u001b[0;34m\u001b[0m\u001b[0m\n\u001b[0;32m--> 405\u001b[0;31m         \u001b[0;34m**\u001b[0m\u001b[0;34m(\u001b[0m\u001b[0mstorage_options\u001b[0m \u001b[0;32mor\u001b[0m \u001b[0;34m{\u001b[0m\u001b[0;34m}\u001b[0m\u001b[0;34m)\u001b[0m\u001b[0;34m\u001b[0m\u001b[0;34m\u001b[0m\u001b[0m\n\u001b[0m\u001b[1;32m    406\u001b[0m     )\n\u001b[1;32m    407\u001b[0m \u001b[0;34m\u001b[0m\u001b[0m\n",
            "\u001b[0;32m/usr/local/lib/python3.6/dist-packages/dask/bytes/core.py\u001b[0m in \u001b[0;36mread_bytes\u001b[0;34m(urlpath, delimiter, not_zero, blocksize, sample, compression, include_path, **kwargs)\u001b[0m\n\u001b[1;32m    122\u001b[0m             \u001b[0;32mif\u001b[0m \u001b[0msize\u001b[0m \u001b[0;32mis\u001b[0m \u001b[0;32mNone\u001b[0m\u001b[0;34m:\u001b[0m\u001b[0;34m\u001b[0m\u001b[0;34m\u001b[0m\u001b[0m\n\u001b[1;32m    123\u001b[0m                 raise ValueError(\n\u001b[0;32m--> 124\u001b[0;31m                     \u001b[0;34m\"Backing filesystem couldn't determine file size, cannot \"\u001b[0m\u001b[0;34m\u001b[0m\u001b[0;34m\u001b[0m\u001b[0m\n\u001b[0m\u001b[1;32m    125\u001b[0m                     \u001b[0;34m\"do chunked reads. To read, set blocksize=None.\"\u001b[0m\u001b[0;34m\u001b[0m\u001b[0;34m\u001b[0m\u001b[0m\n\u001b[1;32m    126\u001b[0m                 )\n",
            "\u001b[0;31mValueError\u001b[0m: Backing filesystem couldn't determine file size, cannot do chunked reads. To read, set blocksize=None."
          ]
        }
      ]
    },
    {
      "cell_type": "code",
      "metadata": {
        "id": "mFeZayyiXBQL",
        "colab_type": "code",
        "colab": {}
      },
      "source": [
        "def create_fea(dt):\n",
        "    lags = [7, 28]\n",
        "    lag_cols = [f\"lag_{lag}\" for lag in lags ]\n",
        "    for lag, lag_col in zip(lags, lag_cols):\n",
        "        dt[lag_col] = dt[[\"id\",\"sales\"]].groupby(\"id\")[\"sales\"].shift(lag)\n",
        "\n",
        "    wins = [7, 28]\n",
        "    for win in wins :\n",
        "        for lag,lag_col in zip(lags, lag_cols):\n",
        "            dt[f\"rmean_{lag}_{win}\"] = dt[[\"id\", lag_col]].groupby(\"id\")[lag_col].transform(lambda x : x.rolling(win).mean())\n",
        "\n",
        "    \n",
        "    \n",
        "    date_features = {\n",
        "        \n",
        "        \"wday\": \"weekday\",\n",
        "        \"week\": \"weekofyear\",\n",
        "        \"month\": \"month\",\n",
        "        \"quarter\": \"quarter\",\n",
        "        \"year\": \"year\",\n",
        "        \"mday\": \"day\",\n",
        "#         \"ime\": \"is_month_end\",\n",
        "#         \"ims\": \"is_month_start\",\n",
        "    }\n",
        "    \n",
        "#     dt.drop([\"d\", \"wm_yr_wk\", \"weekday\"], axis=1, inplace = True)\n",
        "    \n",
        "    for date_feat_name, date_feat_func in date_features.items():\n",
        "        if date_feat_name in dt.columns:\n",
        "            dt[date_feat_name] = dt[date_feat_name].astype(\"int16\")\n",
        "        else:\n",
        "            dt[date_feat_name] = getattr(dt[\"date\"].dt, date_feat_func).astype(\"int16\")"
      ],
      "execution_count": 7,
      "outputs": []
    },
    {
      "cell_type": "code",
      "metadata": {
        "id": "-myAiJIwYqZx",
        "colab_type": "code",
        "colab": {
          "base_uri": "https://localhost:8080/",
          "height": 70
        },
        "outputId": "c9c1f9a2-b570-4843-d471-b0b9b1003ccc"
      },
      "source": [
        "import numpy as np # linear algebra\n",
        "import pandas as pd # data processing, CSV file I/O (e.g. pd.read_csv)\n",
        "\n",
        "import matplotlib.pyplot as plt\n",
        "import seaborn as sns"
      ],
      "execution_count": 18,
      "outputs": [
        {
          "output_type": "stream",
          "text": [
            "/usr/local/lib/python3.6/dist-packages/statsmodels/tools/_testing.py:19: FutureWarning: pandas.util.testing is deprecated. Use the functions in the public API at pandas.testing instead.\n",
            "  import pandas.util.testing as tm\n"
          ],
          "name": "stderr"
        }
      ]
    },
    {
      "cell_type": "code",
      "metadata": {
        "id": "TYWuYzQmZd9e",
        "colab_type": "code",
        "colab": {}
      },
      "source": [
        "df_cal = pd.read_csv('/calendar.csv')\n",
        "df_eval = pd.read_csv('/sales_train_validation.csv.zip')\n",
        "df_price = pd.read_csv('/sell_prices.csv.zip')\n",
        "df_sample_output = pd.read_csv('/sample_submission.csv.zip')"
      ],
      "execution_count": 23,
      "outputs": []
    },
    {
      "cell_type": "code",
      "metadata": {
        "id": "ilu8GT2MZnCH",
        "colab_type": "code",
        "colab": {}
      },
      "source": [
        "holiday = ['NewYear', 'OrthodoxChristmas', 'MartinLutherKingDay', 'SuperBowl', 'PresidentsDay', 'StPatricksDay', 'Easter', 'Cinco De Mayo', 'IndependenceDay', 'EidAlAdha', 'Thanksgiving', 'Christmas']\n",
        "weekend = ['Saturday', 'Sunday']\n",
        "\n",
        "df_cal['is_holiday_1'] = df_cal['event_name_1'].apply(lambda x : 1 if x in holiday else 0 )\n",
        "df_cal['is_holiday_2'] = df_cal['event_name_1'].apply(lambda x : 1 if x in holiday else 0 )\n",
        "df_cal['is_holiday'] = df_cal[['is_holiday_1','is_holiday_2']].max(axis=1)\n",
        "df_cal['is_weekend'] = df_cal['weekday'].apply(lambda x : 1 if x in weekend else 0 )"
      ],
      "execution_count": 24,
      "outputs": []
    },
    {
      "cell_type": "code",
      "metadata": {
        "id": "8VAm735-Zu4C",
        "colab_type": "code",
        "colab": {}
      },
      "source": [
        "df_cal = df_cal.drop(['weekday', 'wday', 'month', 'year', 'event_name_1', 'event_type_1', 'event_name_2', 'event_type_2'], axis='columns')"
      ],
      "execution_count": 25,
      "outputs": []
    },
    {
      "cell_type": "code",
      "metadata": {
        "id": "p5FgztIUZzgO",
        "colab_type": "code",
        "colab": {}
      },
      "source": [
        "del_col = []\n",
        "for x in range(1851):\n",
        "    del_col.append('d_' + str(x+1))"
      ],
      "execution_count": 26,
      "outputs": []
    },
    {
      "cell_type": "code",
      "metadata": {
        "id": "Wt4GvjbcZ2X3",
        "colab_type": "code",
        "colab": {}
      },
      "source": [
        "df_eval = df_eval.drop(del_col, axis='columns')"
      ],
      "execution_count": 27,
      "outputs": []
    },
    {
      "cell_type": "code",
      "metadata": {
        "id": "4CgF7MaDZ5f4",
        "colab_type": "code",
        "colab": {
          "base_uri": "https://localhost:8080/",
          "height": 212
        },
        "outputId": "6ca6f440-c4d6-4ba7-8d26-b7b0a0187e79"
      },
      "source": [
        "df_eval = df_eval.melt(['id','item_id','dept_id','cat_id','store_id','state_id'], var_name='d', value_name='qty')\n",
        "print(df_eval.shape)\n",
        "df_eval.head()"
      ],
      "execution_count": 28,
      "outputs": [
        {
          "output_type": "stream",
          "text": [
            "(1890380, 8)\n"
          ],
          "name": "stdout"
        },
        {
          "output_type": "execute_result",
          "data": {
            "text/html": [
              "<div>\n",
              "<style scoped>\n",
              "    .dataframe tbody tr th:only-of-type {\n",
              "        vertical-align: middle;\n",
              "    }\n",
              "\n",
              "    .dataframe tbody tr th {\n",
              "        vertical-align: top;\n",
              "    }\n",
              "\n",
              "    .dataframe thead th {\n",
              "        text-align: right;\n",
              "    }\n",
              "</style>\n",
              "<table border=\"1\" class=\"dataframe\">\n",
              "  <thead>\n",
              "    <tr style=\"text-align: right;\">\n",
              "      <th></th>\n",
              "      <th>id</th>\n",
              "      <th>item_id</th>\n",
              "      <th>dept_id</th>\n",
              "      <th>cat_id</th>\n",
              "      <th>store_id</th>\n",
              "      <th>state_id</th>\n",
              "      <th>d</th>\n",
              "      <th>qty</th>\n",
              "    </tr>\n",
              "  </thead>\n",
              "  <tbody>\n",
              "    <tr>\n",
              "      <th>0</th>\n",
              "      <td>HOBBIES_1_001_CA_1_validation</td>\n",
              "      <td>HOBBIES_1_001</td>\n",
              "      <td>HOBBIES_1</td>\n",
              "      <td>HOBBIES</td>\n",
              "      <td>CA_1</td>\n",
              "      <td>CA</td>\n",
              "      <td>d_1852</td>\n",
              "      <td>0</td>\n",
              "    </tr>\n",
              "    <tr>\n",
              "      <th>1</th>\n",
              "      <td>HOBBIES_1_002_CA_1_validation</td>\n",
              "      <td>HOBBIES_1_002</td>\n",
              "      <td>HOBBIES_1</td>\n",
              "      <td>HOBBIES</td>\n",
              "      <td>CA_1</td>\n",
              "      <td>CA</td>\n",
              "      <td>d_1852</td>\n",
              "      <td>0</td>\n",
              "    </tr>\n",
              "    <tr>\n",
              "      <th>2</th>\n",
              "      <td>HOBBIES_1_003_CA_1_validation</td>\n",
              "      <td>HOBBIES_1_003</td>\n",
              "      <td>HOBBIES_1</td>\n",
              "      <td>HOBBIES</td>\n",
              "      <td>CA_1</td>\n",
              "      <td>CA</td>\n",
              "      <td>d_1852</td>\n",
              "      <td>0</td>\n",
              "    </tr>\n",
              "    <tr>\n",
              "      <th>3</th>\n",
              "      <td>HOBBIES_1_004_CA_1_validation</td>\n",
              "      <td>HOBBIES_1_004</td>\n",
              "      <td>HOBBIES_1</td>\n",
              "      <td>HOBBIES</td>\n",
              "      <td>CA_1</td>\n",
              "      <td>CA</td>\n",
              "      <td>d_1852</td>\n",
              "      <td>1</td>\n",
              "    </tr>\n",
              "    <tr>\n",
              "      <th>4</th>\n",
              "      <td>HOBBIES_1_005_CA_1_validation</td>\n",
              "      <td>HOBBIES_1_005</td>\n",
              "      <td>HOBBIES_1</td>\n",
              "      <td>HOBBIES</td>\n",
              "      <td>CA_1</td>\n",
              "      <td>CA</td>\n",
              "      <td>d_1852</td>\n",
              "      <td>0</td>\n",
              "    </tr>\n",
              "  </tbody>\n",
              "</table>\n",
              "</div>"
            ],
            "text/plain": [
              "                              id        item_id    dept_id   cat_id store_id  \\\n",
              "0  HOBBIES_1_001_CA_1_validation  HOBBIES_1_001  HOBBIES_1  HOBBIES     CA_1   \n",
              "1  HOBBIES_1_002_CA_1_validation  HOBBIES_1_002  HOBBIES_1  HOBBIES     CA_1   \n",
              "2  HOBBIES_1_003_CA_1_validation  HOBBIES_1_003  HOBBIES_1  HOBBIES     CA_1   \n",
              "3  HOBBIES_1_004_CA_1_validation  HOBBIES_1_004  HOBBIES_1  HOBBIES     CA_1   \n",
              "4  HOBBIES_1_005_CA_1_validation  HOBBIES_1_005  HOBBIES_1  HOBBIES     CA_1   \n",
              "\n",
              "  state_id       d  qty  \n",
              "0       CA  d_1852    0  \n",
              "1       CA  d_1852    0  \n",
              "2       CA  d_1852    0  \n",
              "3       CA  d_1852    1  \n",
              "4       CA  d_1852    0  "
            ]
          },
          "metadata": {
            "tags": []
          },
          "execution_count": 28
        }
      ]
    },
    {
      "cell_type": "code",
      "metadata": {
        "id": "WKAa8hBLarE5",
        "colab_type": "code",
        "colab": {}
      },
      "source": [
        "df_eval = pd.merge(df_eval, df_cal, how='left', on='d')"
      ],
      "execution_count": 29,
      "outputs": []
    },
    {
      "cell_type": "code",
      "metadata": {
        "id": "ha2MiPMZavnZ",
        "colab_type": "code",
        "colab": {}
      },
      "source": [
        "df_eval = pd.merge(df_eval, df_price, how='left', on=['item_id', 'wm_yr_wk', 'store_id'])"
      ],
      "execution_count": 30,
      "outputs": []
    },
    {
      "cell_type": "code",
      "metadata": {
        "id": "OearNKs0ayG5",
        "colab_type": "code",
        "colab": {}
      },
      "source": [
        "df_eval_test = df_eval.query('d == \"d_1852\"')"
      ],
      "execution_count": 31,
      "outputs": []
    },
    {
      "cell_type": "code",
      "metadata": {
        "id": "Adu-D9Hia2fb",
        "colab_type": "code",
        "colab": {}
      },
      "source": [
        "df_eval_test = df_eval_test[['id', 'store_id', 'item_id', 'dept_id', 'cat_id', 'state_id', 'd', 'qty', 'sell_price']]"
      ],
      "execution_count": 32,
      "outputs": []
    },
    {
      "cell_type": "code",
      "metadata": {
        "id": "Yl_g6LL-a4t-",
        "colab_type": "code",
        "colab": {}
      },
      "source": [
        "df_eval_test['qty'] = df_eval_test['d'].apply(lambda x: int(x.replace(x, '0')))"
      ],
      "execution_count": 33,
      "outputs": []
    },
    {
      "cell_type": "code",
      "metadata": {
        "id": "qVseTsJ6a7b1",
        "colab_type": "code",
        "colab": {}
      },
      "source": [
        "tmp_df = df_eval_test"
      ],
      "execution_count": 34,
      "outputs": []
    },
    {
      "cell_type": "code",
      "metadata": {
        "id": "ex96xWA5a-vM",
        "colab_type": "code",
        "colab": {}
      },
      "source": [
        "for x in range(28):\n",
        "    df_eval_test = df_eval_test.append(tmp_df)"
      ],
      "execution_count": 35,
      "outputs": []
    },
    {
      "cell_type": "code",
      "metadata": {
        "id": "FSNLb75jbBx5",
        "colab_type": "code",
        "colab": {}
      },
      "source": [
        "df_eval_test = df_eval_test.reset_index(drop=True)"
      ],
      "execution_count": 36,
      "outputs": []
    },
    {
      "cell_type": "code",
      "metadata": {
        "id": "oOz_x_nAbEJL",
        "colab_type": "code",
        "colab": {}
      },
      "source": [
        "lst_d = []\n",
        "i = 0\n",
        "lst_index = df_eval_test.index\n",
        "for x in lst_index:\n",
        "    lst_d.append('d_' + str(((lst_index[i]) // 30490) + 1942))\n",
        "    i = i + 1"
      ],
      "execution_count": 37,
      "outputs": []
    },
    {
      "cell_type": "code",
      "metadata": {
        "id": "FWA49FtVbGEb",
        "colab_type": "code",
        "colab": {}
      },
      "source": [
        "df_eval_test['d'] = lst_d"
      ],
      "execution_count": 38,
      "outputs": []
    },
    {
      "cell_type": "code",
      "metadata": {
        "id": "8-dxXOzIbI2A",
        "colab_type": "code",
        "colab": {}
      },
      "source": [
        "df_eval_test = pd.merge(df_eval_test, df_cal, how='left', on='d')"
      ],
      "execution_count": 39,
      "outputs": []
    },
    {
      "cell_type": "code",
      "metadata": {
        "id": "_vlyWTn_bMOQ",
        "colab_type": "code",
        "colab": {}
      },
      "source": [
        "df_eval_test = pd.merge(df_eval_test, df_price, how='left', on=['item_id', 'wm_yr_wk', 'store_id'])"
      ],
      "execution_count": 40,
      "outputs": []
    },
    {
      "cell_type": "code",
      "metadata": {
        "id": "xERQWTk8bOU9",
        "colab_type": "code",
        "colab": {
          "base_uri": "https://localhost:8080/",
          "height": 34
        },
        "outputId": "917866f2-f8ba-43ed-f39b-820067f81547"
      },
      "source": [
        "import gc\n",
        "del tmp_df\n",
        "gc.collect()"
      ],
      "execution_count": 41,
      "outputs": [
        {
          "output_type": "execute_result",
          "data": {
            "text/plain": [
              "325"
            ]
          },
          "metadata": {
            "tags": []
          },
          "execution_count": 41
        }
      ]
    },
    {
      "cell_type": "code",
      "metadata": {
        "id": "p91sM0JFbQwm",
        "colab_type": "code",
        "colab": {}
      },
      "source": [
        "df_eval = pd.get_dummies(data=df_eval, columns=['dept_id', 'cat_id', 'store_id', 'state_id'])\n",
        "df_eval_test = pd.get_dummies(data=df_eval_test, columns=['dept_id', 'cat_id', 'store_id', 'state_id'])"
      ],
      "execution_count": 42,
      "outputs": []
    },
    {
      "cell_type": "code",
      "metadata": {
        "id": "ALvBhg_kbTvO",
        "colab_type": "code",
        "colab": {}
      },
      "source": [
        "df_eval_test = df_eval_test.drop(['sell_price_x', 'snap_CA', 'snap_TX', 'snap_WI'], axis='columns')\n",
        "df_eval_test = df_eval_test.rename(columns={'sell_price_y': 'sell_price'})\n",
        "df_eval = df_eval.drop(['snap_CA', 'snap_TX', 'snap_WI'], axis='columns') "
      ],
      "execution_count": 43,
      "outputs": []
    },
    {
      "cell_type": "code",
      "metadata": {
        "id": "hpzvk6nsbW_J",
        "colab_type": "code",
        "colab": {}
      },
      "source": [
        "from sklearn.model_selection import train_test_split\n",
        "target_col = 'qty'\n",
        "exclude_cols = ['id', 'item_id', 'd', 'date', 'wm_yr_wk']\n",
        "feature_cols = [col for col in df_eval.columns if col not in exclude_cols]\n",
        "y = np.array(df_eval[target_col])\n",
        "X = np.array(df_eval[feature_cols])\n",
        "X_train, X_test, y_train, y_test = train_test_split(X, y, test_size=0.25, random_state=42)"
      ],
      "execution_count": 44,
      "outputs": []
    },
    {
      "cell_type": "code",
      "metadata": {
        "id": "pgF5baSAbbS0",
        "colab_type": "code",
        "colab": {
          "base_uri": "https://localhost:8080/",
          "height": 1000
        },
        "outputId": "e769036d-cd9e-471e-d609-2a4c9c151d8f"
      },
      "source": [
        "lgb_train = lgb.Dataset(X_train, y_train)\n",
        "lgb_eval = lgb.Dataset(X_test, y_test)\n",
        "params = {\n",
        "    'boosting_type': 'gbdt',\n",
        "    'metric': 'rmse',\n",
        "    'objective': 'regression',\n",
        "    'n_jobs': -1,\n",
        "    'seed': 250,\n",
        "    'learning_rate': 0.01,\n",
        "    'bagging_fraction': 0.75,\n",
        "    'bagging_freq': 10, \n",
        "    'colsample_bytree': 0.75}\n",
        "\n",
        "model = lgb.train(params, lgb_train, num_boost_round=5000, early_stopping_rounds=750, valid_sets = [lgb_train, lgb_eval], verbose_eval=100)"
      ],
      "execution_count": 45,
      "outputs": [
        {
          "output_type": "stream",
          "text": [
            "[LightGBM] [Warning] Auto-choosing row-wise multi-threading, the overhead of testing was 0.088323 seconds.\n",
            "You can set `force_row_wise=true` to remove the overhead.\n",
            "And if memory is not enough, you can set `force_col_wise=true`.\n",
            "[LightGBM] [Info] Total Bins 384\n",
            "[LightGBM] [Info] Number of data points in the train set: 1417785, number of used features: 29\n",
            "[LightGBM] [Info] Start training from score 1.375912\n",
            "Training until validation scores don't improve for 750 rounds\n",
            "[100]\ttraining's rmse: 1.56638\tvalid_1's rmse: 1.55736\n",
            "[200]\ttraining's rmse: 0.743187\tvalid_1's rmse: 0.738473\n",
            "[300]\ttraining's rmse: 0.39397\tvalid_1's rmse: 0.390096\n",
            "[400]\ttraining's rmse: 0.237782\tvalid_1's rmse: 0.232816\n",
            "[500]\ttraining's rmse: 0.171587\tvalid_1's rmse: 0.164233\n",
            "[600]\ttraining's rmse: 0.147176\tvalid_1's rmse: 0.138432\n",
            "[700]\ttraining's rmse: 0.135609\tvalid_1's rmse: 0.125652\n",
            "[800]\ttraining's rmse: 0.129512\tvalid_1's rmse: 0.119463\n",
            "[900]\ttraining's rmse: 0.125858\tvalid_1's rmse: 0.11558\n",
            "[1000]\ttraining's rmse: 0.123383\tvalid_1's rmse: 0.112933\n",
            "[1100]\ttraining's rmse: 0.121819\tvalid_1's rmse: 0.111345\n",
            "[1200]\ttraining's rmse: 0.120589\tvalid_1's rmse: 0.110223\n",
            "[1300]\ttraining's rmse: 0.119717\tvalid_1's rmse: 0.109593\n",
            "[1400]\ttraining's rmse: 0.119046\tvalid_1's rmse: 0.108915\n",
            "[1500]\ttraining's rmse: 0.118589\tvalid_1's rmse: 0.108499\n",
            "[1600]\ttraining's rmse: 0.118209\tvalid_1's rmse: 0.10843\n",
            "[1700]\ttraining's rmse: 0.117876\tvalid_1's rmse: 0.107916\n",
            "[1800]\ttraining's rmse: 0.117582\tvalid_1's rmse: 0.107801\n",
            "[1900]\ttraining's rmse: 0.11737\tvalid_1's rmse: 0.107733\n",
            "[2000]\ttraining's rmse: 0.117191\tvalid_1's rmse: 0.107906\n",
            "[2100]\ttraining's rmse: 0.116977\tvalid_1's rmse: 0.107624\n",
            "[2200]\ttraining's rmse: 0.116903\tvalid_1's rmse: 0.107778\n",
            "[2300]\ttraining's rmse: 0.116645\tvalid_1's rmse: 0.107447\n",
            "[2400]\ttraining's rmse: 0.11638\tvalid_1's rmse: 0.107173\n",
            "[2500]\ttraining's rmse: 0.116178\tvalid_1's rmse: 0.107526\n",
            "[2600]\ttraining's rmse: 0.115983\tvalid_1's rmse: 0.107192\n",
            "[2700]\ttraining's rmse: 0.115826\tvalid_1's rmse: 0.107213\n",
            "[2800]\ttraining's rmse: 0.115672\tvalid_1's rmse: 0.107108\n",
            "[2900]\ttraining's rmse: 0.115603\tvalid_1's rmse: 0.107056\n",
            "[3000]\ttraining's rmse: 0.11543\tvalid_1's rmse: 0.107167\n",
            "[3100]\ttraining's rmse: 0.115327\tvalid_1's rmse: 0.106991\n",
            "[3200]\ttraining's rmse: 0.115231\tvalid_1's rmse: 0.106983\n",
            "[3300]\ttraining's rmse: 0.115052\tvalid_1's rmse: 0.106949\n",
            "[3400]\ttraining's rmse: 0.114878\tvalid_1's rmse: 0.106967\n",
            "[3500]\ttraining's rmse: 0.114676\tvalid_1's rmse: 0.107047\n",
            "[3600]\ttraining's rmse: 0.114524\tvalid_1's rmse: 0.106999\n",
            "[3700]\ttraining's rmse: 0.11447\tvalid_1's rmse: 0.106911\n",
            "[3800]\ttraining's rmse: 0.114316\tvalid_1's rmse: 0.106812\n",
            "[3900]\ttraining's rmse: 0.114212\tvalid_1's rmse: 0.106763\n",
            "[4000]\ttraining's rmse: 0.113987\tvalid_1's rmse: 0.106796\n",
            "[4100]\ttraining's rmse: 0.113881\tvalid_1's rmse: 0.106753\n",
            "[4200]\ttraining's rmse: 0.113819\tvalid_1's rmse: 0.106466\n",
            "[4300]\ttraining's rmse: 0.113615\tvalid_1's rmse: 0.1065\n",
            "[4400]\ttraining's rmse: 0.113457\tvalid_1's rmse: 0.106554\n",
            "[4500]\ttraining's rmse: 0.11325\tvalid_1's rmse: 0.106763\n",
            "[4600]\ttraining's rmse: 0.113079\tvalid_1's rmse: 0.106576\n",
            "[4700]\ttraining's rmse: 0.112927\tvalid_1's rmse: 0.106448\n",
            "[4800]\ttraining's rmse: 0.112858\tvalid_1's rmse: 0.106443\n",
            "[4900]\ttraining's rmse: 0.112761\tvalid_1's rmse: 0.106639\n",
            "[5000]\ttraining's rmse: 0.112607\tvalid_1's rmse: 0.106501\n",
            "Did not meet early stopping. Best iteration is:\n",
            "[5000]\ttraining's rmse: 0.112607\tvalid_1's rmse: 0.106501\n"
          ],
          "name": "stdout"
        }
      ]
    },
    {
      "cell_type": "code",
      "metadata": {
        "id": "fABWrqTCbe4A",
        "colab_type": "code",
        "colab": {}
      },
      "source": [
        "pred = model.predict(df_eval_test[feature_cols])"
      ],
      "execution_count": 46,
      "outputs": []
    },
    {
      "cell_type": "code",
      "metadata": {
        "id": "zyQfBjQTbo8R",
        "colab_type": "code",
        "colab": {}
      },
      "source": [
        "df_eval_test['pred_qty'] = pred"
      ],
      "execution_count": 47,
      "outputs": []
    },
    {
      "cell_type": "code",
      "metadata": {
        "id": "fkiNkfpWbr-s",
        "colab_type": "code",
        "colab": {
          "base_uri": "https://localhost:8080/",
          "height": 438
        },
        "outputId": "43b19673-17f1-4b36-c47d-690bb6c4758c"
      },
      "source": [
        "predictions = df_eval_test[['id', 'date', 'pred_qty']]\n",
        "predictions = pd.pivot(predictions, index = 'id', columns = 'date', values = 'pred_qty').reset_index()\n",
        "predictions"
      ],
      "execution_count": 48,
      "outputs": [
        {
          "output_type": "execute_result",
          "data": {
            "text/html": [
              "<div>\n",
              "<style scoped>\n",
              "    .dataframe tbody tr th:only-of-type {\n",
              "        vertical-align: middle;\n",
              "    }\n",
              "\n",
              "    .dataframe tbody tr th {\n",
              "        vertical-align: top;\n",
              "    }\n",
              "\n",
              "    .dataframe thead th {\n",
              "        text-align: right;\n",
              "    }\n",
              "</style>\n",
              "<table border=\"1\" class=\"dataframe\">\n",
              "  <thead>\n",
              "    <tr style=\"text-align: right;\">\n",
              "      <th>date</th>\n",
              "      <th>id</th>\n",
              "      <th>NaN</th>\n",
              "      <th>2016-05-23</th>\n",
              "      <th>2016-05-24</th>\n",
              "      <th>2016-05-25</th>\n",
              "      <th>2016-05-26</th>\n",
              "      <th>2016-05-27</th>\n",
              "      <th>2016-05-28</th>\n",
              "      <th>2016-05-29</th>\n",
              "      <th>2016-05-30</th>\n",
              "      <th>2016-05-31</th>\n",
              "      <th>2016-06-01</th>\n",
              "      <th>2016-06-02</th>\n",
              "      <th>2016-06-03</th>\n",
              "      <th>2016-06-04</th>\n",
              "      <th>2016-06-05</th>\n",
              "      <th>2016-06-06</th>\n",
              "      <th>2016-06-07</th>\n",
              "      <th>2016-06-08</th>\n",
              "      <th>2016-06-09</th>\n",
              "      <th>2016-06-10</th>\n",
              "      <th>2016-06-11</th>\n",
              "      <th>2016-06-12</th>\n",
              "      <th>2016-06-13</th>\n",
              "      <th>2016-06-14</th>\n",
              "      <th>2016-06-15</th>\n",
              "      <th>2016-06-16</th>\n",
              "      <th>2016-06-17</th>\n",
              "      <th>2016-06-18</th>\n",
              "      <th>2016-06-19</th>\n",
              "    </tr>\n",
              "  </thead>\n",
              "  <tbody>\n",
              "    <tr>\n",
              "      <th>0</th>\n",
              "      <td>FOODS_1_001_CA_1_validation</td>\n",
              "      <td>0.014686</td>\n",
              "      <td>-0.000637</td>\n",
              "      <td>-0.000637</td>\n",
              "      <td>-0.000637</td>\n",
              "      <td>-0.000637</td>\n",
              "      <td>-0.000637</td>\n",
              "      <td>-0.000357</td>\n",
              "      <td>-0.000357</td>\n",
              "      <td>-0.000637</td>\n",
              "      <td>-0.000637</td>\n",
              "      <td>-0.000637</td>\n",
              "      <td>-0.000637</td>\n",
              "      <td>-0.000637</td>\n",
              "      <td>-0.000357</td>\n",
              "      <td>-0.000357</td>\n",
              "      <td>-0.000637</td>\n",
              "      <td>-0.000637</td>\n",
              "      <td>-0.000637</td>\n",
              "      <td>-0.000637</td>\n",
              "      <td>-0.000637</td>\n",
              "      <td>-0.000357</td>\n",
              "      <td>-0.000357</td>\n",
              "      <td>-0.000637</td>\n",
              "      <td>-0.000637</td>\n",
              "      <td>-0.000637</td>\n",
              "      <td>-0.000637</td>\n",
              "      <td>-0.000637</td>\n",
              "      <td>-0.000357</td>\n",
              "      <td>-0.000357</td>\n",
              "    </tr>\n",
              "    <tr>\n",
              "      <th>1</th>\n",
              "      <td>FOODS_1_001_CA_2_validation</td>\n",
              "      <td>0.001337</td>\n",
              "      <td>0.001931</td>\n",
              "      <td>0.001931</td>\n",
              "      <td>0.001931</td>\n",
              "      <td>0.001931</td>\n",
              "      <td>0.001931</td>\n",
              "      <td>0.002233</td>\n",
              "      <td>0.002233</td>\n",
              "      <td>0.001931</td>\n",
              "      <td>0.001931</td>\n",
              "      <td>0.001931</td>\n",
              "      <td>0.001931</td>\n",
              "      <td>0.001931</td>\n",
              "      <td>0.002233</td>\n",
              "      <td>0.002233</td>\n",
              "      <td>0.001931</td>\n",
              "      <td>0.001931</td>\n",
              "      <td>0.001931</td>\n",
              "      <td>0.001931</td>\n",
              "      <td>0.001931</td>\n",
              "      <td>0.002233</td>\n",
              "      <td>0.002233</td>\n",
              "      <td>0.001931</td>\n",
              "      <td>0.001931</td>\n",
              "      <td>0.001931</td>\n",
              "      <td>0.001931</td>\n",
              "      <td>0.001931</td>\n",
              "      <td>0.002233</td>\n",
              "      <td>0.002233</td>\n",
              "    </tr>\n",
              "    <tr>\n",
              "      <th>2</th>\n",
              "      <td>FOODS_1_001_CA_3_validation</td>\n",
              "      <td>0.150235</td>\n",
              "      <td>0.000691</td>\n",
              "      <td>0.000691</td>\n",
              "      <td>0.000691</td>\n",
              "      <td>0.000691</td>\n",
              "      <td>0.000691</td>\n",
              "      <td>0.002439</td>\n",
              "      <td>0.002439</td>\n",
              "      <td>0.000691</td>\n",
              "      <td>0.000691</td>\n",
              "      <td>0.000691</td>\n",
              "      <td>0.000691</td>\n",
              "      <td>0.000691</td>\n",
              "      <td>0.002439</td>\n",
              "      <td>0.002439</td>\n",
              "      <td>0.000691</td>\n",
              "      <td>0.000691</td>\n",
              "      <td>0.000691</td>\n",
              "      <td>0.000691</td>\n",
              "      <td>0.000691</td>\n",
              "      <td>0.002439</td>\n",
              "      <td>0.002439</td>\n",
              "      <td>0.000691</td>\n",
              "      <td>0.000691</td>\n",
              "      <td>0.000691</td>\n",
              "      <td>0.000691</td>\n",
              "      <td>0.000691</td>\n",
              "      <td>0.002439</td>\n",
              "      <td>0.002439</td>\n",
              "    </tr>\n",
              "    <tr>\n",
              "      <th>3</th>\n",
              "      <td>FOODS_1_001_CA_4_validation</td>\n",
              "      <td>-0.035811</td>\n",
              "      <td>0.000139</td>\n",
              "      <td>0.000139</td>\n",
              "      <td>0.000139</td>\n",
              "      <td>0.000139</td>\n",
              "      <td>0.000139</td>\n",
              "      <td>-0.001154</td>\n",
              "      <td>-0.001154</td>\n",
              "      <td>0.000139</td>\n",
              "      <td>0.000139</td>\n",
              "      <td>0.000139</td>\n",
              "      <td>0.000139</td>\n",
              "      <td>0.000139</td>\n",
              "      <td>-0.001154</td>\n",
              "      <td>-0.001154</td>\n",
              "      <td>0.000139</td>\n",
              "      <td>0.000139</td>\n",
              "      <td>0.000139</td>\n",
              "      <td>0.000139</td>\n",
              "      <td>0.000139</td>\n",
              "      <td>-0.001154</td>\n",
              "      <td>-0.001154</td>\n",
              "      <td>0.000139</td>\n",
              "      <td>0.000139</td>\n",
              "      <td>0.000139</td>\n",
              "      <td>0.000139</td>\n",
              "      <td>0.000139</td>\n",
              "      <td>-0.001154</td>\n",
              "      <td>-0.001154</td>\n",
              "    </tr>\n",
              "    <tr>\n",
              "      <th>4</th>\n",
              "      <td>FOODS_1_001_TX_1_validation</td>\n",
              "      <td>-0.008844</td>\n",
              "      <td>-0.000399</td>\n",
              "      <td>-0.000399</td>\n",
              "      <td>-0.000399</td>\n",
              "      <td>-0.000399</td>\n",
              "      <td>-0.000399</td>\n",
              "      <td>-0.001588</td>\n",
              "      <td>-0.001588</td>\n",
              "      <td>-0.000399</td>\n",
              "      <td>-0.000399</td>\n",
              "      <td>-0.000399</td>\n",
              "      <td>-0.000399</td>\n",
              "      <td>-0.000399</td>\n",
              "      <td>-0.001588</td>\n",
              "      <td>-0.001588</td>\n",
              "      <td>-0.000399</td>\n",
              "      <td>-0.000399</td>\n",
              "      <td>-0.000399</td>\n",
              "      <td>-0.000399</td>\n",
              "      <td>-0.000399</td>\n",
              "      <td>-0.001588</td>\n",
              "      <td>-0.001588</td>\n",
              "      <td>-0.000399</td>\n",
              "      <td>-0.000399</td>\n",
              "      <td>-0.000399</td>\n",
              "      <td>-0.000399</td>\n",
              "      <td>-0.000399</td>\n",
              "      <td>-0.001588</td>\n",
              "      <td>-0.001588</td>\n",
              "    </tr>\n",
              "    <tr>\n",
              "      <th>...</th>\n",
              "      <td>...</td>\n",
              "      <td>...</td>\n",
              "      <td>...</td>\n",
              "      <td>...</td>\n",
              "      <td>...</td>\n",
              "      <td>...</td>\n",
              "      <td>...</td>\n",
              "      <td>...</td>\n",
              "      <td>...</td>\n",
              "      <td>...</td>\n",
              "      <td>...</td>\n",
              "      <td>...</td>\n",
              "      <td>...</td>\n",
              "      <td>...</td>\n",
              "      <td>...</td>\n",
              "      <td>...</td>\n",
              "      <td>...</td>\n",
              "      <td>...</td>\n",
              "      <td>...</td>\n",
              "      <td>...</td>\n",
              "      <td>...</td>\n",
              "      <td>...</td>\n",
              "      <td>...</td>\n",
              "      <td>...</td>\n",
              "      <td>...</td>\n",
              "      <td>...</td>\n",
              "      <td>...</td>\n",
              "      <td>...</td>\n",
              "      <td>...</td>\n",
              "      <td>...</td>\n",
              "    </tr>\n",
              "    <tr>\n",
              "      <th>30485</th>\n",
              "      <td>HOUSEHOLD_2_516_TX_2_validation</td>\n",
              "      <td>-0.031467</td>\n",
              "      <td>-0.000404</td>\n",
              "      <td>-0.000404</td>\n",
              "      <td>-0.000404</td>\n",
              "      <td>-0.000404</td>\n",
              "      <td>-0.000404</td>\n",
              "      <td>-0.000953</td>\n",
              "      <td>-0.000953</td>\n",
              "      <td>-0.000404</td>\n",
              "      <td>-0.000404</td>\n",
              "      <td>-0.000404</td>\n",
              "      <td>-0.000404</td>\n",
              "      <td>-0.000404</td>\n",
              "      <td>-0.000953</td>\n",
              "      <td>-0.000953</td>\n",
              "      <td>-0.000404</td>\n",
              "      <td>-0.000404</td>\n",
              "      <td>-0.000404</td>\n",
              "      <td>-0.000404</td>\n",
              "      <td>-0.000404</td>\n",
              "      <td>-0.000953</td>\n",
              "      <td>-0.000953</td>\n",
              "      <td>-0.000404</td>\n",
              "      <td>-0.000404</td>\n",
              "      <td>-0.000404</td>\n",
              "      <td>-0.000404</td>\n",
              "      <td>-0.000404</td>\n",
              "      <td>-0.000953</td>\n",
              "      <td>-0.000953</td>\n",
              "    </tr>\n",
              "    <tr>\n",
              "      <th>30486</th>\n",
              "      <td>HOUSEHOLD_2_516_TX_3_validation</td>\n",
              "      <td>-0.031290</td>\n",
              "      <td>-0.000280</td>\n",
              "      <td>-0.000280</td>\n",
              "      <td>-0.000280</td>\n",
              "      <td>-0.000280</td>\n",
              "      <td>-0.000280</td>\n",
              "      <td>-0.000733</td>\n",
              "      <td>-0.000733</td>\n",
              "      <td>-0.000280</td>\n",
              "      <td>-0.000280</td>\n",
              "      <td>-0.000280</td>\n",
              "      <td>-0.000280</td>\n",
              "      <td>-0.000280</td>\n",
              "      <td>-0.000733</td>\n",
              "      <td>-0.000733</td>\n",
              "      <td>-0.000280</td>\n",
              "      <td>-0.000280</td>\n",
              "      <td>-0.000280</td>\n",
              "      <td>-0.000280</td>\n",
              "      <td>-0.000280</td>\n",
              "      <td>-0.000733</td>\n",
              "      <td>-0.000733</td>\n",
              "      <td>-0.000280</td>\n",
              "      <td>-0.000280</td>\n",
              "      <td>-0.000280</td>\n",
              "      <td>-0.000280</td>\n",
              "      <td>-0.000280</td>\n",
              "      <td>-0.000733</td>\n",
              "      <td>-0.000733</td>\n",
              "    </tr>\n",
              "    <tr>\n",
              "      <th>30487</th>\n",
              "      <td>HOUSEHOLD_2_516_WI_1_validation</td>\n",
              "      <td>-0.046290</td>\n",
              "      <td>-0.000104</td>\n",
              "      <td>-0.000104</td>\n",
              "      <td>-0.000104</td>\n",
              "      <td>-0.000104</td>\n",
              "      <td>-0.000104</td>\n",
              "      <td>-0.000708</td>\n",
              "      <td>-0.000708</td>\n",
              "      <td>-0.000104</td>\n",
              "      <td>-0.000104</td>\n",
              "      <td>-0.000104</td>\n",
              "      <td>-0.000104</td>\n",
              "      <td>-0.000104</td>\n",
              "      <td>-0.000708</td>\n",
              "      <td>-0.000708</td>\n",
              "      <td>-0.000104</td>\n",
              "      <td>-0.000104</td>\n",
              "      <td>-0.000104</td>\n",
              "      <td>-0.000104</td>\n",
              "      <td>-0.000104</td>\n",
              "      <td>-0.000708</td>\n",
              "      <td>-0.000708</td>\n",
              "      <td>-0.000104</td>\n",
              "      <td>-0.000104</td>\n",
              "      <td>-0.000104</td>\n",
              "      <td>-0.000104</td>\n",
              "      <td>-0.000104</td>\n",
              "      <td>-0.000708</td>\n",
              "      <td>-0.000708</td>\n",
              "    </tr>\n",
              "    <tr>\n",
              "      <th>30488</th>\n",
              "      <td>HOUSEHOLD_2_516_WI_2_validation</td>\n",
              "      <td>-0.034450</td>\n",
              "      <td>-0.001090</td>\n",
              "      <td>-0.001090</td>\n",
              "      <td>-0.001090</td>\n",
              "      <td>-0.001090</td>\n",
              "      <td>-0.001090</td>\n",
              "      <td>-0.000314</td>\n",
              "      <td>-0.000314</td>\n",
              "      <td>-0.001090</td>\n",
              "      <td>-0.001090</td>\n",
              "      <td>-0.001090</td>\n",
              "      <td>-0.001090</td>\n",
              "      <td>-0.001090</td>\n",
              "      <td>-0.000314</td>\n",
              "      <td>-0.000314</td>\n",
              "      <td>-0.001090</td>\n",
              "      <td>-0.001090</td>\n",
              "      <td>-0.001090</td>\n",
              "      <td>-0.001090</td>\n",
              "      <td>-0.001090</td>\n",
              "      <td>-0.000314</td>\n",
              "      <td>-0.000314</td>\n",
              "      <td>-0.001090</td>\n",
              "      <td>-0.001090</td>\n",
              "      <td>-0.001090</td>\n",
              "      <td>-0.001090</td>\n",
              "      <td>-0.001090</td>\n",
              "      <td>-0.000314</td>\n",
              "      <td>-0.000314</td>\n",
              "    </tr>\n",
              "    <tr>\n",
              "      <th>30489</th>\n",
              "      <td>HOUSEHOLD_2_516_WI_3_validation</td>\n",
              "      <td>-0.073696</td>\n",
              "      <td>-0.000072</td>\n",
              "      <td>-0.000072</td>\n",
              "      <td>-0.000072</td>\n",
              "      <td>-0.000072</td>\n",
              "      <td>-0.000072</td>\n",
              "      <td>0.000082</td>\n",
              "      <td>0.000082</td>\n",
              "      <td>-0.000072</td>\n",
              "      <td>-0.000072</td>\n",
              "      <td>-0.000072</td>\n",
              "      <td>-0.000072</td>\n",
              "      <td>-0.000072</td>\n",
              "      <td>0.000082</td>\n",
              "      <td>0.000082</td>\n",
              "      <td>-0.000072</td>\n",
              "      <td>-0.000072</td>\n",
              "      <td>-0.000072</td>\n",
              "      <td>-0.000072</td>\n",
              "      <td>-0.000072</td>\n",
              "      <td>0.000082</td>\n",
              "      <td>0.000082</td>\n",
              "      <td>-0.000072</td>\n",
              "      <td>-0.000072</td>\n",
              "      <td>-0.000072</td>\n",
              "      <td>-0.000072</td>\n",
              "      <td>-0.000072</td>\n",
              "      <td>0.000082</td>\n",
              "      <td>0.000082</td>\n",
              "    </tr>\n",
              "  </tbody>\n",
              "</table>\n",
              "<p>30490 rows × 30 columns</p>\n",
              "</div>"
            ],
            "text/plain": [
              "date                                id       NaN  2016-05-23  2016-05-24  \\\n",
              "0          FOODS_1_001_CA_1_validation  0.014686   -0.000637   -0.000637   \n",
              "1          FOODS_1_001_CA_2_validation  0.001337    0.001931    0.001931   \n",
              "2          FOODS_1_001_CA_3_validation  0.150235    0.000691    0.000691   \n",
              "3          FOODS_1_001_CA_4_validation -0.035811    0.000139    0.000139   \n",
              "4          FOODS_1_001_TX_1_validation -0.008844   -0.000399   -0.000399   \n",
              "...                                ...       ...         ...         ...   \n",
              "30485  HOUSEHOLD_2_516_TX_2_validation -0.031467   -0.000404   -0.000404   \n",
              "30486  HOUSEHOLD_2_516_TX_3_validation -0.031290   -0.000280   -0.000280   \n",
              "30487  HOUSEHOLD_2_516_WI_1_validation -0.046290   -0.000104   -0.000104   \n",
              "30488  HOUSEHOLD_2_516_WI_2_validation -0.034450   -0.001090   -0.001090   \n",
              "30489  HOUSEHOLD_2_516_WI_3_validation -0.073696   -0.000072   -0.000072   \n",
              "\n",
              "date   2016-05-25  2016-05-26  2016-05-27  2016-05-28  2016-05-29  2016-05-30  \\\n",
              "0       -0.000637   -0.000637   -0.000637   -0.000357   -0.000357   -0.000637   \n",
              "1        0.001931    0.001931    0.001931    0.002233    0.002233    0.001931   \n",
              "2        0.000691    0.000691    0.000691    0.002439    0.002439    0.000691   \n",
              "3        0.000139    0.000139    0.000139   -0.001154   -0.001154    0.000139   \n",
              "4       -0.000399   -0.000399   -0.000399   -0.001588   -0.001588   -0.000399   \n",
              "...           ...         ...         ...         ...         ...         ...   \n",
              "30485   -0.000404   -0.000404   -0.000404   -0.000953   -0.000953   -0.000404   \n",
              "30486   -0.000280   -0.000280   -0.000280   -0.000733   -0.000733   -0.000280   \n",
              "30487   -0.000104   -0.000104   -0.000104   -0.000708   -0.000708   -0.000104   \n",
              "30488   -0.001090   -0.001090   -0.001090   -0.000314   -0.000314   -0.001090   \n",
              "30489   -0.000072   -0.000072   -0.000072    0.000082    0.000082   -0.000072   \n",
              "\n",
              "date   2016-05-31  2016-06-01  2016-06-02  2016-06-03  2016-06-04  2016-06-05  \\\n",
              "0       -0.000637   -0.000637   -0.000637   -0.000637   -0.000357   -0.000357   \n",
              "1        0.001931    0.001931    0.001931    0.001931    0.002233    0.002233   \n",
              "2        0.000691    0.000691    0.000691    0.000691    0.002439    0.002439   \n",
              "3        0.000139    0.000139    0.000139    0.000139   -0.001154   -0.001154   \n",
              "4       -0.000399   -0.000399   -0.000399   -0.000399   -0.001588   -0.001588   \n",
              "...           ...         ...         ...         ...         ...         ...   \n",
              "30485   -0.000404   -0.000404   -0.000404   -0.000404   -0.000953   -0.000953   \n",
              "30486   -0.000280   -0.000280   -0.000280   -0.000280   -0.000733   -0.000733   \n",
              "30487   -0.000104   -0.000104   -0.000104   -0.000104   -0.000708   -0.000708   \n",
              "30488   -0.001090   -0.001090   -0.001090   -0.001090   -0.000314   -0.000314   \n",
              "30489   -0.000072   -0.000072   -0.000072   -0.000072    0.000082    0.000082   \n",
              "\n",
              "date   2016-06-06  2016-06-07  2016-06-08  2016-06-09  2016-06-10  2016-06-11  \\\n",
              "0       -0.000637   -0.000637   -0.000637   -0.000637   -0.000637   -0.000357   \n",
              "1        0.001931    0.001931    0.001931    0.001931    0.001931    0.002233   \n",
              "2        0.000691    0.000691    0.000691    0.000691    0.000691    0.002439   \n",
              "3        0.000139    0.000139    0.000139    0.000139    0.000139   -0.001154   \n",
              "4       -0.000399   -0.000399   -0.000399   -0.000399   -0.000399   -0.001588   \n",
              "...           ...         ...         ...         ...         ...         ...   \n",
              "30485   -0.000404   -0.000404   -0.000404   -0.000404   -0.000404   -0.000953   \n",
              "30486   -0.000280   -0.000280   -0.000280   -0.000280   -0.000280   -0.000733   \n",
              "30487   -0.000104   -0.000104   -0.000104   -0.000104   -0.000104   -0.000708   \n",
              "30488   -0.001090   -0.001090   -0.001090   -0.001090   -0.001090   -0.000314   \n",
              "30489   -0.000072   -0.000072   -0.000072   -0.000072   -0.000072    0.000082   \n",
              "\n",
              "date   2016-06-12  2016-06-13  2016-06-14  2016-06-15  2016-06-16  2016-06-17  \\\n",
              "0       -0.000357   -0.000637   -0.000637   -0.000637   -0.000637   -0.000637   \n",
              "1        0.002233    0.001931    0.001931    0.001931    0.001931    0.001931   \n",
              "2        0.002439    0.000691    0.000691    0.000691    0.000691    0.000691   \n",
              "3       -0.001154    0.000139    0.000139    0.000139    0.000139    0.000139   \n",
              "4       -0.001588   -0.000399   -0.000399   -0.000399   -0.000399   -0.000399   \n",
              "...           ...         ...         ...         ...         ...         ...   \n",
              "30485   -0.000953   -0.000404   -0.000404   -0.000404   -0.000404   -0.000404   \n",
              "30486   -0.000733   -0.000280   -0.000280   -0.000280   -0.000280   -0.000280   \n",
              "30487   -0.000708   -0.000104   -0.000104   -0.000104   -0.000104   -0.000104   \n",
              "30488   -0.000314   -0.001090   -0.001090   -0.001090   -0.001090   -0.001090   \n",
              "30489    0.000082   -0.000072   -0.000072   -0.000072   -0.000072   -0.000072   \n",
              "\n",
              "date   2016-06-18  2016-06-19  \n",
              "0       -0.000357   -0.000357  \n",
              "1        0.002233    0.002233  \n",
              "2        0.002439    0.002439  \n",
              "3       -0.001154   -0.001154  \n",
              "4       -0.001588   -0.001588  \n",
              "...           ...         ...  \n",
              "30485   -0.000953   -0.000953  \n",
              "30486   -0.000733   -0.000733  \n",
              "30487   -0.000708   -0.000708  \n",
              "30488   -0.000314   -0.000314  \n",
              "30489    0.000082    0.000082  \n",
              "\n",
              "[30490 rows x 30 columns]"
            ]
          },
          "metadata": {
            "tags": []
          },
          "execution_count": 48
        }
      ]
    },
    {
      "cell_type": "code",
      "metadata": {
        "id": "6uRsZF6OburA",
        "colab_type": "code",
        "colab": {}
      },
      "source": [
        "predictions = predictions.drop(predictions.columns[1], axis=1)"
      ],
      "execution_count": 49,
      "outputs": []
    },
    {
      "cell_type": "code",
      "metadata": {
        "id": "4y4baybMbxmS",
        "colab_type": "code",
        "colab": {}
      },
      "source": [
        "predictions.columns = ['id'] + ['F' + str(i + 1) for i in range(28)]"
      ],
      "execution_count": 50,
      "outputs": []
    },
    {
      "cell_type": "code",
      "metadata": {
        "id": "0o9-MVIDb2Ka",
        "colab_type": "code",
        "colab": {}
      },
      "source": [
        "x = 2744099 + 1 - 853720\n",
        "df_val = df_eval[x:]"
      ],
      "execution_count": 51,
      "outputs": []
    },
    {
      "cell_type": "code",
      "metadata": {
        "id": "TXpQAQ20b4fu",
        "colab_type": "code",
        "colab": {}
      },
      "source": [
        "predictions_v = df_val[['id', 'date', 'qty']]\n",
        "predictions_v = pd.pivot(predictions_v, index = 'id', columns = 'date', values = 'qty').reset_index()"
      ],
      "execution_count": 52,
      "outputs": []
    },
    {
      "cell_type": "code",
      "metadata": {
        "id": "zoF9nFd2b6_Q",
        "colab_type": "code",
        "colab": {}
      },
      "source": [
        "predictions_v['id'] = predictions['id'].apply(lambda x: x.replace('evaluation', 'validation'))"
      ],
      "execution_count": 53,
      "outputs": []
    },
    {
      "cell_type": "code",
      "metadata": {
        "id": "3GDV21NRf73K",
        "colab_type": "code",
        "colab": {
          "base_uri": "https://localhost:8080/",
          "height": 195
        },
        "outputId": "81fa820e-8935-4266-bab0-201b1541112d"
      },
      "source": [
        "predictions_v.head()"
      ],
      "execution_count": 55,
      "outputs": [
        {
          "output_type": "execute_result",
          "data": {
            "text/html": [
              "<div>\n",
              "<style scoped>\n",
              "    .dataframe tbody tr th:only-of-type {\n",
              "        vertical-align: middle;\n",
              "    }\n",
              "\n",
              "    .dataframe tbody tr th {\n",
              "        vertical-align: top;\n",
              "    }\n",
              "\n",
              "    .dataframe thead th {\n",
              "        text-align: right;\n",
              "    }\n",
              "</style>\n",
              "<table border=\"1\" class=\"dataframe\">\n",
              "  <thead>\n",
              "    <tr style=\"text-align: right;\">\n",
              "      <th>date</th>\n",
              "      <th>id</th>\n",
              "    </tr>\n",
              "  </thead>\n",
              "  <tbody>\n",
              "    <tr>\n",
              "      <th>0</th>\n",
              "      <td>FOODS_1_001_CA_1_validation</td>\n",
              "    </tr>\n",
              "    <tr>\n",
              "      <th>1</th>\n",
              "      <td>FOODS_1_001_CA_2_validation</td>\n",
              "    </tr>\n",
              "    <tr>\n",
              "      <th>2</th>\n",
              "      <td>FOODS_1_001_CA_3_validation</td>\n",
              "    </tr>\n",
              "    <tr>\n",
              "      <th>3</th>\n",
              "      <td>FOODS_1_001_CA_4_validation</td>\n",
              "    </tr>\n",
              "    <tr>\n",
              "      <th>4</th>\n",
              "      <td>FOODS_1_001_TX_1_validation</td>\n",
              "    </tr>\n",
              "  </tbody>\n",
              "</table>\n",
              "</div>"
            ],
            "text/plain": [
              "date                           id\n",
              "0     FOODS_1_001_CA_1_validation\n",
              "1     FOODS_1_001_CA_2_validation\n",
              "2     FOODS_1_001_CA_3_validation\n",
              "3     FOODS_1_001_CA_4_validation\n",
              "4     FOODS_1_001_TX_1_validation"
            ]
          },
          "metadata": {
            "tags": []
          },
          "execution_count": 55
        }
      ]
    },
    {
      "cell_type": "code",
      "metadata": {
        "id": "9qKqiWhAb94p",
        "colab_type": "code",
        "colab": {
          "base_uri": "https://localhost:8080/",
          "height": 337
        },
        "outputId": "3cfe4fc6-1c75-4865-e103-f3f0c02c5f4d"
      },
      "source": [
        "predictions_v.columns = ['id'] + ['F' + str(i + 1) for i in range(28)]"
      ],
      "execution_count": 56,
      "outputs": [
        {
          "output_type": "error",
          "ename": "ValueError",
          "evalue": "ignored",
          "traceback": [
            "\u001b[0;31m---------------------------------------------------------------------------\u001b[0m",
            "\u001b[0;31mValueError\u001b[0m                                Traceback (most recent call last)",
            "\u001b[0;32m<ipython-input-56-a4d5ef9ab3ba>\u001b[0m in \u001b[0;36m<module>\u001b[0;34m()\u001b[0m\n\u001b[0;32m----> 1\u001b[0;31m \u001b[0mpredictions_v\u001b[0m\u001b[0;34m.\u001b[0m\u001b[0mcolumns\u001b[0m \u001b[0;34m=\u001b[0m \u001b[0;34m[\u001b[0m\u001b[0;34m'id'\u001b[0m\u001b[0;34m]\u001b[0m \u001b[0;34m+\u001b[0m \u001b[0;34m[\u001b[0m\u001b[0;34m'F'\u001b[0m \u001b[0;34m+\u001b[0m \u001b[0mstr\u001b[0m\u001b[0;34m(\u001b[0m\u001b[0mi\u001b[0m \u001b[0;34m+\u001b[0m \u001b[0;36m1\u001b[0m\u001b[0;34m)\u001b[0m \u001b[0;32mfor\u001b[0m \u001b[0mi\u001b[0m \u001b[0;32min\u001b[0m \u001b[0mrange\u001b[0m\u001b[0;34m(\u001b[0m\u001b[0;36m28\u001b[0m\u001b[0;34m)\u001b[0m\u001b[0;34m]\u001b[0m\u001b[0;34m\u001b[0m\u001b[0;34m\u001b[0m\u001b[0m\n\u001b[0m",
            "\u001b[0;32m/usr/local/lib/python3.6/dist-packages/pandas/core/generic.py\u001b[0m in \u001b[0;36m__setattr__\u001b[0;34m(self, name, value)\u001b[0m\n\u001b[1;32m   5285\u001b[0m         \u001b[0;32mtry\u001b[0m\u001b[0;34m:\u001b[0m\u001b[0;34m\u001b[0m\u001b[0;34m\u001b[0m\u001b[0m\n\u001b[1;32m   5286\u001b[0m             \u001b[0mobject\u001b[0m\u001b[0;34m.\u001b[0m\u001b[0m__getattribute__\u001b[0m\u001b[0;34m(\u001b[0m\u001b[0mself\u001b[0m\u001b[0;34m,\u001b[0m \u001b[0mname\u001b[0m\u001b[0;34m)\u001b[0m\u001b[0;34m\u001b[0m\u001b[0;34m\u001b[0m\u001b[0m\n\u001b[0;32m-> 5287\u001b[0;31m             \u001b[0;32mreturn\u001b[0m \u001b[0mobject\u001b[0m\u001b[0;34m.\u001b[0m\u001b[0m__setattr__\u001b[0m\u001b[0;34m(\u001b[0m\u001b[0mself\u001b[0m\u001b[0;34m,\u001b[0m \u001b[0mname\u001b[0m\u001b[0;34m,\u001b[0m \u001b[0mvalue\u001b[0m\u001b[0;34m)\u001b[0m\u001b[0;34m\u001b[0m\u001b[0;34m\u001b[0m\u001b[0m\n\u001b[0m\u001b[1;32m   5288\u001b[0m         \u001b[0;32mexcept\u001b[0m \u001b[0mAttributeError\u001b[0m\u001b[0;34m:\u001b[0m\u001b[0;34m\u001b[0m\u001b[0;34m\u001b[0m\u001b[0m\n\u001b[1;32m   5289\u001b[0m             \u001b[0;32mpass\u001b[0m\u001b[0;34m\u001b[0m\u001b[0;34m\u001b[0m\u001b[0m\n",
            "\u001b[0;32mpandas/_libs/properties.pyx\u001b[0m in \u001b[0;36mpandas._libs.properties.AxisProperty.__set__\u001b[0;34m()\u001b[0m\n",
            "\u001b[0;32m/usr/local/lib/python3.6/dist-packages/pandas/core/generic.py\u001b[0m in \u001b[0;36m_set_axis\u001b[0;34m(self, axis, labels)\u001b[0m\n\u001b[1;32m    659\u001b[0m \u001b[0;34m\u001b[0m\u001b[0m\n\u001b[1;32m    660\u001b[0m     \u001b[0;32mdef\u001b[0m \u001b[0m_set_axis\u001b[0m\u001b[0;34m(\u001b[0m\u001b[0mself\u001b[0m\u001b[0;34m,\u001b[0m \u001b[0maxis\u001b[0m\u001b[0;34m,\u001b[0m \u001b[0mlabels\u001b[0m\u001b[0;34m)\u001b[0m \u001b[0;34m->\u001b[0m \u001b[0;32mNone\u001b[0m\u001b[0;34m:\u001b[0m\u001b[0;34m\u001b[0m\u001b[0;34m\u001b[0m\u001b[0m\n\u001b[0;32m--> 661\u001b[0;31m         \u001b[0mself\u001b[0m\u001b[0;34m.\u001b[0m\u001b[0m_data\u001b[0m\u001b[0;34m.\u001b[0m\u001b[0mset_axis\u001b[0m\u001b[0;34m(\u001b[0m\u001b[0maxis\u001b[0m\u001b[0;34m,\u001b[0m \u001b[0mlabels\u001b[0m\u001b[0;34m)\u001b[0m\u001b[0;34m\u001b[0m\u001b[0;34m\u001b[0m\u001b[0m\n\u001b[0m\u001b[1;32m    662\u001b[0m         \u001b[0mself\u001b[0m\u001b[0;34m.\u001b[0m\u001b[0m_clear_item_cache\u001b[0m\u001b[0;34m(\u001b[0m\u001b[0;34m)\u001b[0m\u001b[0;34m\u001b[0m\u001b[0;34m\u001b[0m\u001b[0m\n\u001b[1;32m    663\u001b[0m \u001b[0;34m\u001b[0m\u001b[0m\n",
            "\u001b[0;32m/usr/local/lib/python3.6/dist-packages/pandas/core/internals/managers.py\u001b[0m in \u001b[0;36mset_axis\u001b[0;34m(self, axis, new_labels)\u001b[0m\n\u001b[1;32m    176\u001b[0m         \u001b[0;32mif\u001b[0m \u001b[0mnew_len\u001b[0m \u001b[0;34m!=\u001b[0m \u001b[0mold_len\u001b[0m\u001b[0;34m:\u001b[0m\u001b[0;34m\u001b[0m\u001b[0;34m\u001b[0m\u001b[0m\n\u001b[1;32m    177\u001b[0m             raise ValueError(\n\u001b[0;32m--> 178\u001b[0;31m                 \u001b[0;34mf\"Length mismatch: Expected axis has {old_len} elements, new \"\u001b[0m\u001b[0;34m\u001b[0m\u001b[0;34m\u001b[0m\u001b[0m\n\u001b[0m\u001b[1;32m    179\u001b[0m                 \u001b[0;34mf\"values have {new_len} elements\"\u001b[0m\u001b[0;34m\u001b[0m\u001b[0;34m\u001b[0m\u001b[0m\n\u001b[1;32m    180\u001b[0m             )\n",
            "\u001b[0;31mValueError\u001b[0m: Length mismatch: Expected axis has 1 elements, new values have 29 elements"
          ]
        }
      ]
    },
    {
      "cell_type": "code",
      "metadata": {
        "id": "XDJafLlzgURq",
        "colab_type": "code",
        "colab": {
          "base_uri": "https://localhost:8080/",
          "height": 34
        },
        "outputId": "bf4325c7-5b10-4c06-dbb7-9a6145f61a94"
      },
      "source": [
        "predictions_v.columns"
      ],
      "execution_count": 57,
      "outputs": [
        {
          "output_type": "execute_result",
          "data": {
            "text/plain": [
              "Index(['id'], dtype='object', name='date')"
            ]
          },
          "metadata": {
            "tags": []
          },
          "execution_count": 57
        }
      ]
    },
    {
      "cell_type": "code",
      "metadata": {
        "id": "88xwpw9ycBfV",
        "colab_type": "code",
        "colab": {
          "base_uri": "https://localhost:8080/",
          "height": 215
        },
        "outputId": "91473d22-5ef7-4810-fd63-eade1bc453bc"
      },
      "source": [
        "predictions_concat = pd.concat([predictions, predictions_v], axis=0)\n",
        "predictions_concat.head()"
      ],
      "execution_count": 59,
      "outputs": [
        {
          "output_type": "execute_result",
          "data": {
            "text/html": [
              "<div>\n",
              "<style scoped>\n",
              "    .dataframe tbody tr th:only-of-type {\n",
              "        vertical-align: middle;\n",
              "    }\n",
              "\n",
              "    .dataframe tbody tr th {\n",
              "        vertical-align: top;\n",
              "    }\n",
              "\n",
              "    .dataframe thead th {\n",
              "        text-align: right;\n",
              "    }\n",
              "</style>\n",
              "<table border=\"1\" class=\"dataframe\">\n",
              "  <thead>\n",
              "    <tr style=\"text-align: right;\">\n",
              "      <th></th>\n",
              "      <th>id</th>\n",
              "      <th>F1</th>\n",
              "      <th>F2</th>\n",
              "      <th>F3</th>\n",
              "      <th>F4</th>\n",
              "      <th>F5</th>\n",
              "      <th>F6</th>\n",
              "      <th>F7</th>\n",
              "      <th>F8</th>\n",
              "      <th>F9</th>\n",
              "      <th>F10</th>\n",
              "      <th>F11</th>\n",
              "      <th>F12</th>\n",
              "      <th>F13</th>\n",
              "      <th>F14</th>\n",
              "      <th>F15</th>\n",
              "      <th>F16</th>\n",
              "      <th>F17</th>\n",
              "      <th>F18</th>\n",
              "      <th>F19</th>\n",
              "      <th>F20</th>\n",
              "      <th>F21</th>\n",
              "      <th>F22</th>\n",
              "      <th>F23</th>\n",
              "      <th>F24</th>\n",
              "      <th>F25</th>\n",
              "      <th>F26</th>\n",
              "      <th>F27</th>\n",
              "      <th>F28</th>\n",
              "    </tr>\n",
              "  </thead>\n",
              "  <tbody>\n",
              "    <tr>\n",
              "      <th>0</th>\n",
              "      <td>FOODS_1_001_CA_1_validation</td>\n",
              "      <td>-0.000637</td>\n",
              "      <td>-0.000637</td>\n",
              "      <td>-0.000637</td>\n",
              "      <td>-0.000637</td>\n",
              "      <td>-0.000637</td>\n",
              "      <td>-0.000357</td>\n",
              "      <td>-0.000357</td>\n",
              "      <td>-0.000637</td>\n",
              "      <td>-0.000637</td>\n",
              "      <td>-0.000637</td>\n",
              "      <td>-0.000637</td>\n",
              "      <td>-0.000637</td>\n",
              "      <td>-0.000357</td>\n",
              "      <td>-0.000357</td>\n",
              "      <td>-0.000637</td>\n",
              "      <td>-0.000637</td>\n",
              "      <td>-0.000637</td>\n",
              "      <td>-0.000637</td>\n",
              "      <td>-0.000637</td>\n",
              "      <td>-0.000357</td>\n",
              "      <td>-0.000357</td>\n",
              "      <td>-0.000637</td>\n",
              "      <td>-0.000637</td>\n",
              "      <td>-0.000637</td>\n",
              "      <td>-0.000637</td>\n",
              "      <td>-0.000637</td>\n",
              "      <td>-0.000357</td>\n",
              "      <td>-0.000357</td>\n",
              "    </tr>\n",
              "    <tr>\n",
              "      <th>1</th>\n",
              "      <td>FOODS_1_001_CA_2_validation</td>\n",
              "      <td>0.001931</td>\n",
              "      <td>0.001931</td>\n",
              "      <td>0.001931</td>\n",
              "      <td>0.001931</td>\n",
              "      <td>0.001931</td>\n",
              "      <td>0.002233</td>\n",
              "      <td>0.002233</td>\n",
              "      <td>0.001931</td>\n",
              "      <td>0.001931</td>\n",
              "      <td>0.001931</td>\n",
              "      <td>0.001931</td>\n",
              "      <td>0.001931</td>\n",
              "      <td>0.002233</td>\n",
              "      <td>0.002233</td>\n",
              "      <td>0.001931</td>\n",
              "      <td>0.001931</td>\n",
              "      <td>0.001931</td>\n",
              "      <td>0.001931</td>\n",
              "      <td>0.001931</td>\n",
              "      <td>0.002233</td>\n",
              "      <td>0.002233</td>\n",
              "      <td>0.001931</td>\n",
              "      <td>0.001931</td>\n",
              "      <td>0.001931</td>\n",
              "      <td>0.001931</td>\n",
              "      <td>0.001931</td>\n",
              "      <td>0.002233</td>\n",
              "      <td>0.002233</td>\n",
              "    </tr>\n",
              "    <tr>\n",
              "      <th>2</th>\n",
              "      <td>FOODS_1_001_CA_3_validation</td>\n",
              "      <td>0.000691</td>\n",
              "      <td>0.000691</td>\n",
              "      <td>0.000691</td>\n",
              "      <td>0.000691</td>\n",
              "      <td>0.000691</td>\n",
              "      <td>0.002439</td>\n",
              "      <td>0.002439</td>\n",
              "      <td>0.000691</td>\n",
              "      <td>0.000691</td>\n",
              "      <td>0.000691</td>\n",
              "      <td>0.000691</td>\n",
              "      <td>0.000691</td>\n",
              "      <td>0.002439</td>\n",
              "      <td>0.002439</td>\n",
              "      <td>0.000691</td>\n",
              "      <td>0.000691</td>\n",
              "      <td>0.000691</td>\n",
              "      <td>0.000691</td>\n",
              "      <td>0.000691</td>\n",
              "      <td>0.002439</td>\n",
              "      <td>0.002439</td>\n",
              "      <td>0.000691</td>\n",
              "      <td>0.000691</td>\n",
              "      <td>0.000691</td>\n",
              "      <td>0.000691</td>\n",
              "      <td>0.000691</td>\n",
              "      <td>0.002439</td>\n",
              "      <td>0.002439</td>\n",
              "    </tr>\n",
              "    <tr>\n",
              "      <th>3</th>\n",
              "      <td>FOODS_1_001_CA_4_validation</td>\n",
              "      <td>0.000139</td>\n",
              "      <td>0.000139</td>\n",
              "      <td>0.000139</td>\n",
              "      <td>0.000139</td>\n",
              "      <td>0.000139</td>\n",
              "      <td>-0.001154</td>\n",
              "      <td>-0.001154</td>\n",
              "      <td>0.000139</td>\n",
              "      <td>0.000139</td>\n",
              "      <td>0.000139</td>\n",
              "      <td>0.000139</td>\n",
              "      <td>0.000139</td>\n",
              "      <td>-0.001154</td>\n",
              "      <td>-0.001154</td>\n",
              "      <td>0.000139</td>\n",
              "      <td>0.000139</td>\n",
              "      <td>0.000139</td>\n",
              "      <td>0.000139</td>\n",
              "      <td>0.000139</td>\n",
              "      <td>-0.001154</td>\n",
              "      <td>-0.001154</td>\n",
              "      <td>0.000139</td>\n",
              "      <td>0.000139</td>\n",
              "      <td>0.000139</td>\n",
              "      <td>0.000139</td>\n",
              "      <td>0.000139</td>\n",
              "      <td>-0.001154</td>\n",
              "      <td>-0.001154</td>\n",
              "    </tr>\n",
              "    <tr>\n",
              "      <th>4</th>\n",
              "      <td>FOODS_1_001_TX_1_validation</td>\n",
              "      <td>-0.000399</td>\n",
              "      <td>-0.000399</td>\n",
              "      <td>-0.000399</td>\n",
              "      <td>-0.000399</td>\n",
              "      <td>-0.000399</td>\n",
              "      <td>-0.001588</td>\n",
              "      <td>-0.001588</td>\n",
              "      <td>-0.000399</td>\n",
              "      <td>-0.000399</td>\n",
              "      <td>-0.000399</td>\n",
              "      <td>-0.000399</td>\n",
              "      <td>-0.000399</td>\n",
              "      <td>-0.001588</td>\n",
              "      <td>-0.001588</td>\n",
              "      <td>-0.000399</td>\n",
              "      <td>-0.000399</td>\n",
              "      <td>-0.000399</td>\n",
              "      <td>-0.000399</td>\n",
              "      <td>-0.000399</td>\n",
              "      <td>-0.001588</td>\n",
              "      <td>-0.001588</td>\n",
              "      <td>-0.000399</td>\n",
              "      <td>-0.000399</td>\n",
              "      <td>-0.000399</td>\n",
              "      <td>-0.000399</td>\n",
              "      <td>-0.000399</td>\n",
              "      <td>-0.001588</td>\n",
              "      <td>-0.001588</td>\n",
              "    </tr>\n",
              "  </tbody>\n",
              "</table>\n",
              "</div>"
            ],
            "text/plain": [
              "                            id        F1        F2        F3        F4  \\\n",
              "0  FOODS_1_001_CA_1_validation -0.000637 -0.000637 -0.000637 -0.000637   \n",
              "1  FOODS_1_001_CA_2_validation  0.001931  0.001931  0.001931  0.001931   \n",
              "2  FOODS_1_001_CA_3_validation  0.000691  0.000691  0.000691  0.000691   \n",
              "3  FOODS_1_001_CA_4_validation  0.000139  0.000139  0.000139  0.000139   \n",
              "4  FOODS_1_001_TX_1_validation -0.000399 -0.000399 -0.000399 -0.000399   \n",
              "\n",
              "         F5        F6        F7        F8        F9       F10       F11  \\\n",
              "0 -0.000637 -0.000357 -0.000357 -0.000637 -0.000637 -0.000637 -0.000637   \n",
              "1  0.001931  0.002233  0.002233  0.001931  0.001931  0.001931  0.001931   \n",
              "2  0.000691  0.002439  0.002439  0.000691  0.000691  0.000691  0.000691   \n",
              "3  0.000139 -0.001154 -0.001154  0.000139  0.000139  0.000139  0.000139   \n",
              "4 -0.000399 -0.001588 -0.001588 -0.000399 -0.000399 -0.000399 -0.000399   \n",
              "\n",
              "        F12       F13       F14       F15       F16       F17       F18  \\\n",
              "0 -0.000637 -0.000357 -0.000357 -0.000637 -0.000637 -0.000637 -0.000637   \n",
              "1  0.001931  0.002233  0.002233  0.001931  0.001931  0.001931  0.001931   \n",
              "2  0.000691  0.002439  0.002439  0.000691  0.000691  0.000691  0.000691   \n",
              "3  0.000139 -0.001154 -0.001154  0.000139  0.000139  0.000139  0.000139   \n",
              "4 -0.000399 -0.001588 -0.001588 -0.000399 -0.000399 -0.000399 -0.000399   \n",
              "\n",
              "        F19       F20       F21       F22       F23       F24       F25  \\\n",
              "0 -0.000637 -0.000357 -0.000357 -0.000637 -0.000637 -0.000637 -0.000637   \n",
              "1  0.001931  0.002233  0.002233  0.001931  0.001931  0.001931  0.001931   \n",
              "2  0.000691  0.002439  0.002439  0.000691  0.000691  0.000691  0.000691   \n",
              "3  0.000139 -0.001154 -0.001154  0.000139  0.000139  0.000139  0.000139   \n",
              "4 -0.000399 -0.001588 -0.001588 -0.000399 -0.000399 -0.000399 -0.000399   \n",
              "\n",
              "        F26       F27       F28  \n",
              "0 -0.000637 -0.000357 -0.000357  \n",
              "1  0.001931  0.002233  0.002233  \n",
              "2  0.000691  0.002439  0.002439  \n",
              "3  0.000139 -0.001154 -0.001154  \n",
              "4 -0.000399 -0.001588 -0.001588  "
            ]
          },
          "metadata": {
            "tags": []
          },
          "execution_count": 59
        }
      ]
    },
    {
      "cell_type": "code",
      "metadata": {
        "id": "-K0PgpqlcEt1",
        "colab_type": "code",
        "colab": {}
      },
      "source": [
        "predictions_concat.to_csv('submission.csv', index=False)"
      ],
      "execution_count": 60,
      "outputs": []
    },
    {
      "cell_type": "code",
      "metadata": {
        "id": "md3JukhNgqUy",
        "colab_type": "code",
        "colab": {
          "base_uri": "https://localhost:8080/",
          "height": 35
        },
        "outputId": "a6679470-58aa-4c9b-e262-0fe901f63acc"
      },
      "source": [
        "import os\n",
        "os.getcwd()"
      ],
      "execution_count": 62,
      "outputs": [
        {
          "output_type": "execute_result",
          "data": {
            "application/vnd.google.colaboratory.intrinsic": {
              "type": "string"
            },
            "text/plain": [
              "'/content'"
            ]
          },
          "metadata": {
            "tags": []
          },
          "execution_count": 62
        }
      ]
    },
    {
      "cell_type": "code",
      "metadata": {
        "id": "d8BlwzYogw59",
        "colab_type": "code",
        "colab": {}
      },
      "source": [
        ""
      ],
      "execution_count": null,
      "outputs": []
    }
  ]
}